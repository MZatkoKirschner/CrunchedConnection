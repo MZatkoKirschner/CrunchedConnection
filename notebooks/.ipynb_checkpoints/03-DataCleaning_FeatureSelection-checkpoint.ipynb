{
 "cells": [
  {
   "cell_type": "markdown",
   "metadata": {},
   "source": [
    "# Clean Data and Get Features Ready for Machine Learning Algorithm"
   ]
  },
  {
   "cell_type": "markdown",
   "metadata": {},
   "source": [
    "###### This notebook performs the final cleaning and feature processing on a merged dataset. The annual merged dataset contains the following:\n",
    "###### 1. Flight records for all domestic U.S. flights for 1 year (~13,000-16,000 flights per day, includes AK and HI).\n",
    "###### 2. Archived weather forecast data from the National Weather Service Model Output Statistics product."
   ]
  },
  {
   "cell_type": "code",
   "execution_count": 1,
   "metadata": {},
   "outputs": [],
   "source": [
    "#Import modules needed for analysis\n",
    "%matplotlib inline\n",
    "import numpy as np\n",
    "import matplotlib.pyplot as plt\n",
    "import pandas as pd\n",
    "\n",
    "from sklearn.model_selection import train_test_split\n",
    "from sklearn.ensemble import RandomForestClassifier\n",
    "\n",
    "from sklearn.tree import DecisionTreeClassifier\n",
    "import graphviz \n",
    "from sklearn import tree\n",
    "\n",
    "from sklearn.metrics import confusion_matrix\n",
    "from sklearn.metrics import accuracy_score, precision_score, recall_score, f1_score\n",
    "from sklearn.metrics import classification_report"
   ]
  },
  {
   "cell_type": "code",
   "execution_count": 2,
   "metadata": {},
   "outputs": [],
   "source": [
    "#Function for plotting decision trees\n",
    "def plot_decision_tree(clf, feature_names, class_names):\n",
    "\n",
    "    tree.export_graphviz(clf, out_file=\"adspy_temp.dot\", feature_names=feature_names, class_names=class_names, filled = True, impurity = False)\n",
    "    with open(\"adspy_temp.dot\") as f:\n",
    "        dot_graph = f.read()\n",
    "    \n",
    "    return graphviz.Source(dot_graph)"
   ]
  },
  {
   "cell_type": "markdown",
   "metadata": {},
   "source": [
    "#### Read merged datafile and perform final cleaning and feature manipulation"
   ]
  },
  {
   "cell_type": "code",
   "execution_count": 3,
   "metadata": {},
   "outputs": [
    {
     "name": "stderr",
     "output_type": "stream",
     "text": [
      "/opt/anaconda3/envs/insight/lib/python3.8/site-packages/IPython/core/interactiveshell.py:3062: DtypeWarning: Columns (24,42) have mixed types.Specify dtype option on import or set low_memory=False.\n",
      "  has_raised = await self.run_ast_nodes(code_ast.body, cell_name,\n"
     ]
    }
   ],
   "source": [
    "#Read merged dataset\n",
    "file = '../data/processed/merged/2019_FlightMetMerged.csv'\n",
    "df = pd.read_csv(file)\n",
    "\n",
    "#Drop any remaining duplicate rows\n",
    "df.drop_duplicates(inplace=True)"
   ]
  },
  {
   "cell_type": "markdown",
   "metadata": {},
   "source": [
    "##### Drop rows where arrival time is before departure time (Note: this is temporary solution because this situation can actually occur)"
   ]
  },
  {
   "cell_type": "code",
   "execution_count": 4,
   "metadata": {
    "scrolled": true
   },
   "outputs": [],
   "source": [
    "#Convert departure and arrival time back into datetimeformat\n",
    "df['ARR_TIME'] = pd.to_datetime(df['ARR_TIME'])\n",
    "df['DEP_TIME'] = pd.to_datetime(df['DEP_TIME'])\n",
    "\n",
    "df = df[df['ARR_TIME']>df['DEP_TIME']]\n",
    "#Note: this is currently excluding 3.4% of the dataset"
   ]
  },
  {
   "cell_type": "code",
   "execution_count": 5,
   "metadata": {
    "scrolled": true
   },
   "outputs": [
    {
     "data": {
      "text/plain": [
       "ARR_DELAY_GROUP\n",
       "-2.0     0.297426\n",
       "-1.0     0.330593\n",
       " 0.0     0.430781\n",
       " 1.0     0.907944\n",
       " 2.0     1.028217\n",
       " 3.0     0.817360\n",
       " 4.0     0.826772\n",
       " 5.0     0.970238\n",
       " 6.0     0.947791\n",
       " 7.0     1.013889\n",
       " 8.0     0.937500\n",
       " 9.0     1.070064\n",
       " 10.0    0.984962\n",
       " 11.0    0.918367\n",
       " 12.0    1.114716\n",
       "Name: 12hQntPrec_D, dtype: float64"
      ]
     },
     "execution_count": 5,
     "metadata": {},
     "output_type": "execute_result"
    }
   ],
   "source": [
    "df.groupby('ARR_DELAY_GROUP')['12hQntPrec_D'].mean()"
   ]
  },
  {
   "cell_type": "code",
   "execution_count": 5,
   "metadata": {},
   "outputs": [
    {
     "data": {
      "text/plain": [
       "ARR_DELAY_GROUP\n",
       "-2.0     0.274986\n",
       "-1.0     0.352476\n",
       " 0.0     0.466584\n",
       " 1.0     0.601644\n",
       " 2.0     0.673098\n",
       " 3.0     0.657194\n",
       " 4.0     0.627249\n",
       " 5.0     0.764706\n",
       " 6.0     0.753191\n",
       " 7.0     1.000000\n",
       " 8.0     1.021390\n",
       " 9.0     0.807407\n",
       " 10.0    0.654412\n",
       " 11.0    0.939394\n",
       " 12.0    0.881564\n",
       "Name: 12hQntPrec_A, dtype: float64"
      ]
     },
     "execution_count": 5,
     "metadata": {},
     "output_type": "execute_result"
    }
   ],
   "source": [
    "df.groupby('ARR_DELAY_GROUP')['12hQntPrec_A'].mean()"
   ]
  },
  {
   "cell_type": "code",
   "execution_count": 6,
   "metadata": {},
   "outputs": [
    {
     "data": {
      "text/plain": [
       "ARR_DELAY_GROUP\n",
       "-2.0      5.0\n",
       "-1.0      5.0\n",
       " 0.0      6.0\n",
       " 1.0     21.0\n",
       " 2.0     26.0\n",
       " 3.0     17.0\n",
       " 4.0     19.0\n",
       " 5.0     22.5\n",
       " 6.0     22.0\n",
       " 7.0     21.0\n",
       " 8.0     18.5\n",
       " 9.0     23.0\n",
       " 10.0    26.0\n",
       " 11.0    14.0\n",
       " 12.0    27.0\n",
       "Name: 12hPrecPrb_D, dtype: float64"
      ]
     },
     "execution_count": 6,
     "metadata": {},
     "output_type": "execute_result"
    }
   ],
   "source": [
    "df.groupby('ARR_DELAY_GROUP')['12hPrecPrb_D'].median()"
   ]
  },
  {
   "cell_type": "code",
   "execution_count": 7,
   "metadata": {},
   "outputs": [
    {
     "data": {
      "text/plain": [
       "ARR_DELAY_GROUP\n",
       "-2.0      4.0\n",
       "-1.0      5.0\n",
       " 0.0      7.0\n",
       " 1.0      9.0\n",
       " 2.0     13.0\n",
       " 3.0     13.0\n",
       " 4.0     10.0\n",
       " 5.0     12.0\n",
       " 6.0     18.0\n",
       " 7.0     13.5\n",
       " 8.0     19.0\n",
       " 9.0     18.0\n",
       " 10.0    16.0\n",
       " 11.0    11.0\n",
       " 12.0    19.0\n",
       "Name: 12hPrecPrb_A, dtype: float64"
      ]
     },
     "execution_count": 7,
     "metadata": {},
     "output_type": "execute_result"
    }
   ],
   "source": [
    "df.groupby('ARR_DELAY_GROUP')['12hPrecPrb_A'].median()"
   ]
  },
  {
   "cell_type": "code",
   "execution_count": 8,
   "metadata": {},
   "outputs": [
    {
     "data": {
      "text/plain": [
       "ARR_DELAY_GROUP\n",
       "-2.0     0.024806\n",
       "-1.0     0.029069\n",
       " 0.0     0.068135\n",
       " 1.0     0.257770\n",
       " 2.0     0.307042\n",
       " 3.0     0.250000\n",
       " 4.0     0.290541\n",
       " 5.0     0.357143\n",
       " 6.0     0.392857\n",
       " 7.0     0.179487\n",
       " 8.0     0.456790\n",
       " 9.0     0.415385\n",
       " 10.0    0.490909\n",
       " 11.0    0.311111\n",
       " 12.0    0.561983\n",
       "Name: snow_D, dtype: float64"
      ]
     },
     "execution_count": 8,
     "metadata": {},
     "output_type": "execute_result"
    }
   ],
   "source": [
    "df.groupby('ARR_DELAY_GROUP')['snow_D'].mean()"
   ]
  },
  {
   "cell_type": "code",
   "execution_count": 9,
   "metadata": {},
   "outputs": [
    {
     "data": {
      "text/plain": [
       "ARR_DELAY_GROUP\n",
       "-2.0     0.038022\n",
       "-1.0     0.031845\n",
       " 0.0     0.053897\n",
       " 1.0     0.132432\n",
       " 2.0     0.113360\n",
       " 3.0     0.159509\n",
       " 4.0     0.236559\n",
       " 5.0     0.123711\n",
       " 6.0     0.238806\n",
       " 7.0     0.108696\n",
       " 8.0     0.149254\n",
       " 9.0     0.150000\n",
       " 10.0    0.100000\n",
       " 11.0    0.058824\n",
       " 12.0    0.432203\n",
       "Name: snow_A, dtype: float64"
      ]
     },
     "execution_count": 9,
     "metadata": {},
     "output_type": "execute_result"
    }
   ],
   "source": [
    "df.groupby('ARR_DELAY_GROUP')['snow_A'].mean()"
   ]
  },
  {
   "cell_type": "markdown",
   "metadata": {},
   "source": [
    "#### Drop columns definitely not need for ML modeling"
   ]
  },
  {
   "cell_type": "code",
   "execution_count": 5,
   "metadata": {},
   "outputs": [],
   "source": [
    "#df.drop(columns=['ORIGIN','DEST','DEP_TIME','ARR_TIME','snow_D','snow_A',\n",
    "#                '12hPrecPrb_D','12hQntPrec_D','12hPrecPrb_A','12hQntPrec_A'],inplace=True,axis=1)\n",
    "\n",
    "df.drop(columns=['ORIGIN','DEST','DEP_TIME','ARR_TIME'],inplace=True,axis=1)"
   ]
  },
  {
   "cell_type": "markdown",
   "metadata": {},
   "source": [
    "#### Convert non-numeric data into numeric values "
   ]
  },
  {
   "cell_type": "code",
   "execution_count": 6,
   "metadata": {
    "scrolled": true
   },
   "outputs": [],
   "source": [
    "df['OP_UNIQUE_CARRIER'].replace({'MQ':1,'AA':2,'B6':3,'OO':4,'OH':5,'UA':6,'AS':7,'NK':8,\n",
    "                                 'YX':9,'YV':10,'WN':11,'DL':12,'EV':13,'9E':14,'F9':15,'HA':16,'G4':17},inplace=True)\n",
    "\n",
    "#df['CC_D'].replace({'OV':1,'CL':2,'FW':3,'BK':4,'SC':5},inplace=True)\n",
    "#df['CC_A'].replace({'OV':1,'CL':2,'FW':3,'BK':4,'SC':5},inplace=True)\n",
    "\n",
    "#df['obstruc_D'].replace({'BR':1,'N':2,'HZ':3,'BL':4,'FG':5,'N ':2},inplace=True)\n",
    "#df['obstruc_A'].replace({'BR':1,'N':2,'HZ':3,'BL':4,'FG':5,'N ':2},inplace=True)\n",
    "\n",
    "#df['precTyp_D'].replace({'R':1,'S':2,'Z':3,'R ':1,'S ':2,'Z ':3},inplace=True)\n",
    "#df['precTyp_A'].replace({'R':1,'S':2,'Z':3,'R ':1,'S ':2,'Z ':3},inplace=True)"
   ]
  },
  {
   "cell_type": "markdown",
   "metadata": {},
   "source": [
    "#### Deal with missing values"
   ]
  },
  {
   "cell_type": "code",
   "execution_count": 7,
   "metadata": {
    "scrolled": false
   },
   "outputs": [
    {
     "data": {
      "text/html": [
       "<div>\n",
       "<style scoped>\n",
       "    .dataframe tbody tr th:only-of-type {\n",
       "        vertical-align: middle;\n",
       "    }\n",
       "\n",
       "    .dataframe tbody tr th {\n",
       "        vertical-align: top;\n",
       "    }\n",
       "\n",
       "    .dataframe thead th {\n",
       "        text-align: right;\n",
       "    }\n",
       "</style>\n",
       "<table border=\"1\" class=\"dataframe\">\n",
       "  <thead>\n",
       "    <tr style=\"text-align: right;\">\n",
       "      <th></th>\n",
       "      <th>OP_UNIQUE_CARRIER</th>\n",
       "      <th>ORIGIN_AIRPORT_ID</th>\n",
       "      <th>DEST_AIRPORT_ID</th>\n",
       "      <th>ARR_DELAY_GROUP</th>\n",
       "      <th>DISTANCE_GROUP</th>\n",
       "      <th>tmpF_D</th>\n",
       "      <th>dptF_D</th>\n",
       "      <th>CC_D</th>\n",
       "      <th>dir_D</th>\n",
       "      <th>spd_D</th>\n",
       "      <th>...</th>\n",
       "      <th>12hQntPrec_A</th>\n",
       "      <th>snow_A</th>\n",
       "      <th>ceil_A</th>\n",
       "      <th>visib_A</th>\n",
       "      <th>obstruc_A</th>\n",
       "      <th>fzRnPrb_A</th>\n",
       "      <th>snowPrb_A</th>\n",
       "      <th>precTyp_A</th>\n",
       "      <th>6hrTsPrb_15mi_A</th>\n",
       "      <th>6hrSvrTsPrb_25mi_A</th>\n",
       "    </tr>\n",
       "  </thead>\n",
       "  <tbody>\n",
       "    <tr>\n",
       "      <th>265</th>\n",
       "      <td>3</td>\n",
       "      <td>10732</td>\n",
       "      <td>11697</td>\n",
       "      <td>-1.0</td>\n",
       "      <td>4</td>\n",
       "      <td>NaN</td>\n",
       "      <td>NaN</td>\n",
       "      <td>NaN</td>\n",
       "      <td>NaN</td>\n",
       "      <td>NaN</td>\n",
       "      <td>...</td>\n",
       "      <td>NaN</td>\n",
       "      <td>NaN</td>\n",
       "      <td>NaN</td>\n",
       "      <td>NaN</td>\n",
       "      <td>NaN</td>\n",
       "      <td>NaN</td>\n",
       "      <td>NaN</td>\n",
       "      <td>NaN</td>\n",
       "      <td>NaN</td>\n",
       "      <td>NaN</td>\n",
       "    </tr>\n",
       "    <tr>\n",
       "      <th>278</th>\n",
       "      <td>7</td>\n",
       "      <td>14747</td>\n",
       "      <td>10299</td>\n",
       "      <td>-1.0</td>\n",
       "      <td>6</td>\n",
       "      <td>NaN</td>\n",
       "      <td>NaN</td>\n",
       "      <td>NaN</td>\n",
       "      <td>NaN</td>\n",
       "      <td>NaN</td>\n",
       "      <td>...</td>\n",
       "      <td>NaN</td>\n",
       "      <td>NaN</td>\n",
       "      <td>NaN</td>\n",
       "      <td>NaN</td>\n",
       "      <td>NaN</td>\n",
       "      <td>NaN</td>\n",
       "      <td>NaN</td>\n",
       "      <td>NaN</td>\n",
       "      <td>NaN</td>\n",
       "      <td>NaN</td>\n",
       "    </tr>\n",
       "    <tr>\n",
       "      <th>282</th>\n",
       "      <td>7</td>\n",
       "      <td>14107</td>\n",
       "      <td>10299</td>\n",
       "      <td>-1.0</td>\n",
       "      <td>11</td>\n",
       "      <td>NaN</td>\n",
       "      <td>NaN</td>\n",
       "      <td>NaN</td>\n",
       "      <td>NaN</td>\n",
       "      <td>NaN</td>\n",
       "      <td>...</td>\n",
       "      <td>NaN</td>\n",
       "      <td>NaN</td>\n",
       "      <td>NaN</td>\n",
       "      <td>NaN</td>\n",
       "      <td>NaN</td>\n",
       "      <td>NaN</td>\n",
       "      <td>NaN</td>\n",
       "      <td>NaN</td>\n",
       "      <td>NaN</td>\n",
       "      <td>NaN</td>\n",
       "    </tr>\n",
       "    <tr>\n",
       "      <th>285</th>\n",
       "      <td>15</td>\n",
       "      <td>12889</td>\n",
       "      <td>11292</td>\n",
       "      <td>-2.0</td>\n",
       "      <td>3</td>\n",
       "      <td>NaN</td>\n",
       "      <td>NaN</td>\n",
       "      <td>NaN</td>\n",
       "      <td>NaN</td>\n",
       "      <td>NaN</td>\n",
       "      <td>...</td>\n",
       "      <td>NaN</td>\n",
       "      <td>NaN</td>\n",
       "      <td>NaN</td>\n",
       "      <td>NaN</td>\n",
       "      <td>NaN</td>\n",
       "      <td>NaN</td>\n",
       "      <td>NaN</td>\n",
       "      <td>NaN</td>\n",
       "      <td>NaN</td>\n",
       "      <td>NaN</td>\n",
       "    </tr>\n",
       "    <tr>\n",
       "      <th>287</th>\n",
       "      <td>3</td>\n",
       "      <td>10732</td>\n",
       "      <td>13204</td>\n",
       "      <td>0.0</td>\n",
       "      <td>5</td>\n",
       "      <td>NaN</td>\n",
       "      <td>NaN</td>\n",
       "      <td>NaN</td>\n",
       "      <td>NaN</td>\n",
       "      <td>NaN</td>\n",
       "      <td>...</td>\n",
       "      <td>NaN</td>\n",
       "      <td>NaN</td>\n",
       "      <td>NaN</td>\n",
       "      <td>NaN</td>\n",
       "      <td>NaN</td>\n",
       "      <td>NaN</td>\n",
       "      <td>NaN</td>\n",
       "      <td>NaN</td>\n",
       "      <td>NaN</td>\n",
       "      <td>NaN</td>\n",
       "    </tr>\n",
       "    <tr>\n",
       "      <th>...</th>\n",
       "      <td>...</td>\n",
       "      <td>...</td>\n",
       "      <td>...</td>\n",
       "      <td>...</td>\n",
       "      <td>...</td>\n",
       "      <td>...</td>\n",
       "      <td>...</td>\n",
       "      <td>...</td>\n",
       "      <td>...</td>\n",
       "      <td>...</td>\n",
       "      <td>...</td>\n",
       "      <td>...</td>\n",
       "      <td>...</td>\n",
       "      <td>...</td>\n",
       "      <td>...</td>\n",
       "      <td>...</td>\n",
       "      <td>...</td>\n",
       "      <td>...</td>\n",
       "      <td>...</td>\n",
       "      <td>...</td>\n",
       "      <td>...</td>\n",
       "    </tr>\n",
       "    <tr>\n",
       "      <th>5914991</th>\n",
       "      <td>12</td>\n",
       "      <td>10397</td>\n",
       "      <td>10423</td>\n",
       "      <td>-1.0</td>\n",
       "      <td>4</td>\n",
       "      <td>43.0</td>\n",
       "      <td>27.0</td>\n",
       "      <td>FW</td>\n",
       "      <td>280.0</td>\n",
       "      <td>8.0</td>\n",
       "      <td>...</td>\n",
       "      <td>NaN</td>\n",
       "      <td>NaN</td>\n",
       "      <td>8.0</td>\n",
       "      <td>7.0</td>\n",
       "      <td>N</td>\n",
       "      <td>1.0</td>\n",
       "      <td>0.0</td>\n",
       "      <td>R</td>\n",
       "      <td>NaN</td>\n",
       "      <td>NaN</td>\n",
       "    </tr>\n",
       "    <tr>\n",
       "      <th>5914992</th>\n",
       "      <td>7</td>\n",
       "      <td>14057</td>\n",
       "      <td>12889</td>\n",
       "      <td>-2.0</td>\n",
       "      <td>4</td>\n",
       "      <td>46.0</td>\n",
       "      <td>42.0</td>\n",
       "      <td>OV</td>\n",
       "      <td>150.0</td>\n",
       "      <td>14.0</td>\n",
       "      <td>...</td>\n",
       "      <td>NaN</td>\n",
       "      <td>NaN</td>\n",
       "      <td>8.0</td>\n",
       "      <td>7.0</td>\n",
       "      <td>N</td>\n",
       "      <td>0.0</td>\n",
       "      <td>25.0</td>\n",
       "      <td>R</td>\n",
       "      <td>0.0</td>\n",
       "      <td>0.0</td>\n",
       "    </tr>\n",
       "    <tr>\n",
       "      <th>5914993</th>\n",
       "      <td>12</td>\n",
       "      <td>10397</td>\n",
       "      <td>11298</td>\n",
       "      <td>-1.0</td>\n",
       "      <td>3</td>\n",
       "      <td>43.0</td>\n",
       "      <td>27.0</td>\n",
       "      <td>FW</td>\n",
       "      <td>280.0</td>\n",
       "      <td>8.0</td>\n",
       "      <td>...</td>\n",
       "      <td>NaN</td>\n",
       "      <td>NaN</td>\n",
       "      <td>8.0</td>\n",
       "      <td>7.0</td>\n",
       "      <td>N</td>\n",
       "      <td>3.0</td>\n",
       "      <td>0.0</td>\n",
       "      <td>R</td>\n",
       "      <td>NaN</td>\n",
       "      <td>NaN</td>\n",
       "    </tr>\n",
       "    <tr>\n",
       "      <th>5914994</th>\n",
       "      <td>2</td>\n",
       "      <td>13303</td>\n",
       "      <td>10397</td>\n",
       "      <td>-1.0</td>\n",
       "      <td>3</td>\n",
       "      <td>73.0</td>\n",
       "      <td>65.0</td>\n",
       "      <td>BK</td>\n",
       "      <td>40.0</td>\n",
       "      <td>5.0</td>\n",
       "      <td>...</td>\n",
       "      <td>NaN</td>\n",
       "      <td>NaN</td>\n",
       "      <td>8.0</td>\n",
       "      <td>7.0</td>\n",
       "      <td>N</td>\n",
       "      <td>1.0</td>\n",
       "      <td>0.0</td>\n",
       "      <td>R</td>\n",
       "      <td>NaN</td>\n",
       "      <td>NaN</td>\n",
       "    </tr>\n",
       "    <tr>\n",
       "      <th>5914995</th>\n",
       "      <td>7</td>\n",
       "      <td>12758</td>\n",
       "      <td>14893</td>\n",
       "      <td>-2.0</td>\n",
       "      <td>10</td>\n",
       "      <td>NaN</td>\n",
       "      <td>NaN</td>\n",
       "      <td>NaN</td>\n",
       "      <td>NaN</td>\n",
       "      <td>NaN</td>\n",
       "      <td>...</td>\n",
       "      <td>NaN</td>\n",
       "      <td>NaN</td>\n",
       "      <td>8.0</td>\n",
       "      <td>7.0</td>\n",
       "      <td>N</td>\n",
       "      <td>0.0</td>\n",
       "      <td>0.0</td>\n",
       "      <td>R</td>\n",
       "      <td>0.0</td>\n",
       "      <td>0.0</td>\n",
       "    </tr>\n",
       "  </tbody>\n",
       "</table>\n",
       "<p>5700097 rows × 41 columns</p>\n",
       "</div>"
      ],
      "text/plain": [
       "         OP_UNIQUE_CARRIER  ORIGIN_AIRPORT_ID  DEST_AIRPORT_ID  \\\n",
       "265                      3              10732            11697   \n",
       "278                      7              14747            10299   \n",
       "282                      7              14107            10299   \n",
       "285                     15              12889            11292   \n",
       "287                      3              10732            13204   \n",
       "...                    ...                ...              ...   \n",
       "5914991                 12              10397            10423   \n",
       "5914992                  7              14057            12889   \n",
       "5914993                 12              10397            11298   \n",
       "5914994                  2              13303            10397   \n",
       "5914995                  7              12758            14893   \n",
       "\n",
       "         ARR_DELAY_GROUP  DISTANCE_GROUP  tmpF_D  dptF_D CC_D  dir_D  spd_D  \\\n",
       "265                 -1.0               4     NaN     NaN  NaN    NaN    NaN   \n",
       "278                 -1.0               6     NaN     NaN  NaN    NaN    NaN   \n",
       "282                 -1.0              11     NaN     NaN  NaN    NaN    NaN   \n",
       "285                 -2.0               3     NaN     NaN  NaN    NaN    NaN   \n",
       "287                  0.0               5     NaN     NaN  NaN    NaN    NaN   \n",
       "...                  ...             ...     ...     ...  ...    ...    ...   \n",
       "5914991             -1.0               4    43.0    27.0   FW  280.0    8.0   \n",
       "5914992             -2.0               4    46.0    42.0   OV  150.0   14.0   \n",
       "5914993             -1.0               3    43.0    27.0   FW  280.0    8.0   \n",
       "5914994             -1.0               3    73.0    65.0   BK   40.0    5.0   \n",
       "5914995             -2.0              10     NaN     NaN  NaN    NaN    NaN   \n",
       "\n",
       "         ...  12hQntPrec_A  snow_A  ceil_A  visib_A  obstruc_A  fzRnPrb_A  \\\n",
       "265      ...           NaN     NaN     NaN      NaN        NaN        NaN   \n",
       "278      ...           NaN     NaN     NaN      NaN        NaN        NaN   \n",
       "282      ...           NaN     NaN     NaN      NaN        NaN        NaN   \n",
       "285      ...           NaN     NaN     NaN      NaN        NaN        NaN   \n",
       "287      ...           NaN     NaN     NaN      NaN        NaN        NaN   \n",
       "...      ...           ...     ...     ...      ...        ...        ...   \n",
       "5914991  ...           NaN     NaN     8.0      7.0         N         1.0   \n",
       "5914992  ...           NaN     NaN     8.0      7.0         N         0.0   \n",
       "5914993  ...           NaN     NaN     8.0      7.0         N         3.0   \n",
       "5914994  ...           NaN     NaN     8.0      7.0         N         1.0   \n",
       "5914995  ...           NaN     NaN     8.0      7.0         N         0.0   \n",
       "\n",
       "         snowPrb_A precTyp_A  6hrTsPrb_15mi_A  6hrSvrTsPrb_25mi_A  \n",
       "265            NaN       NaN              NaN                 NaN  \n",
       "278            NaN       NaN              NaN                 NaN  \n",
       "282            NaN       NaN              NaN                 NaN  \n",
       "285            NaN       NaN              NaN                 NaN  \n",
       "287            NaN       NaN              NaN                 NaN  \n",
       "...            ...       ...              ...                 ...  \n",
       "5914991        0.0        R               NaN                 NaN  \n",
       "5914992       25.0        R               0.0                 0.0  \n",
       "5914993        0.0        R               NaN                 NaN  \n",
       "5914994        0.0        R               NaN                 NaN  \n",
       "5914995        0.0        R               0.0                 0.0  \n",
       "\n",
       "[5700097 rows x 41 columns]"
      ]
     },
     "execution_count": 7,
     "metadata": {},
     "output_type": "execute_result"
    }
   ],
   "source": [
    "#Drop missing values\n",
    "#Our 'predicted' variable, very important to remove rows where this is missing\n",
    "df[df['ARR_DELAY_GROUP'].notna()]\n",
    "\n",
    "#This value is missing for roughly 2% of current dataset\n"
   ]
  },
  {
   "cell_type": "code",
   "execution_count": 8,
   "metadata": {},
   "outputs": [],
   "source": [
    "#For now, drop any rows with missing values. Will likely need to iterate here\n",
    "#Currently, drop all rows that have any NaN values\n",
    "dfML = df.dropna()  \n",
    "\n",
    "#Roughly 2 million records remain"
   ]
  },
  {
   "cell_type": "code",
   "execution_count": 12,
   "metadata": {},
   "outputs": [
    {
     "data": {
      "text/plain": [
       "Index(['OP_UNIQUE_CARRIER', 'ORIGIN_AIRPORT_ID', 'DEST_AIRPORT_ID',\n",
       "       'ARR_DELAY_GROUP', 'DISTANCE_GROUP', 'tmpF_D', 'dptF_D', 'CC_D',\n",
       "       'dir_D', 'spd_D', '6hPrecPrb_D', '12hPrecPrb_D', '6hQntPrec_D',\n",
       "       '12hQntPrec_D', 'snow_D', 'ceil_D', 'visib_D', 'obstruc_D', 'fzRnPrb_D',\n",
       "       'snowPrb_D', 'precTyp_D', '6hrTsPrb_15mi_D', '6hrSvrTsPrb_25mi_D',\n",
       "       'tmpF_A', 'dptF_A', 'CC_A', 'dir_A', 'spd_A', '6hPrecPrb_A',\n",
       "       '12hPrecPrb_A', '6hQntPrec_A', '12hQntPrec_A', 'snow_A', 'ceil_A',\n",
       "       'visib_A', 'obstruc_A', 'fzRnPrb_A', 'snowPrb_A', 'precTyp_A',\n",
       "       '6hrTsPrb_15mi_A', '6hrSvrTsPrb_25mi_A'],\n",
       "      dtype='object')"
      ]
     },
     "execution_count": 12,
     "metadata": {},
     "output_type": "execute_result"
    }
   ],
   "source": [
    "dfML.columns"
   ]
  },
  {
   "cell_type": "code",
   "execution_count": 16,
   "metadata": {},
   "outputs": [
    {
     "data": {
      "text/plain": [
       "ARR_DELAY_GROUP\n",
       "-2.0     12.261272\n",
       "-1.0     13.226736\n",
       " 0.0     16.195394\n",
       " 1.0     28.994505\n",
       " 2.0     29.713178\n",
       " 3.0     27.627907\n",
       " 4.0     23.744681\n",
       " 5.0     27.620690\n",
       " 6.0     20.894737\n",
       " 7.0     27.740741\n",
       " 8.0     16.157895\n",
       " 9.0     21.041667\n",
       " 10.0    27.333333\n",
       " 11.0    19.500000\n",
       " 12.0    25.398810\n",
       "Name: 6hPrecPrb_D, dtype: float64"
      ]
     },
     "execution_count": 16,
     "metadata": {},
     "output_type": "execute_result"
    }
   ],
   "source": [
    "dfML.groupby('ARR_DELAY_GROUP')['6hPrecPrb_D'].mean()"
   ]
  },
  {
   "cell_type": "code",
   "execution_count": 17,
   "metadata": {},
   "outputs": [],
   "source": [
    "#Save out cleaned dataset\n",
    "dfML.to_csv('../data/cleaned/df_cleaned.csv')"
   ]
  },
  {
   "cell_type": "code",
   "execution_count": 9,
   "metadata": {},
   "outputs": [
    {
     "name": "stderr",
     "output_type": "stream",
     "text": [
      "/opt/anaconda3/envs/insight/lib/python3.8/site-packages/pandas/core/indexing.py:671: SettingWithCopyWarning: \n",
      "A value is trying to be set on a copy of a slice from a DataFrame\n",
      "\n",
      "See the caveats in the documentation: https://pandas.pydata.org/pandas-docs/stable/user_guide/indexing.html#returning-a-view-versus-a-copy\n",
      "  self._setitem_with_indexer(indexer, value)\n",
      "<ipython-input-9-1f17aa7f579a>:2: SettingWithCopyWarning: \n",
      "A value is trying to be set on a copy of a slice from a DataFrame\n",
      "\n",
      "See the caveats in the documentation: https://pandas.pydata.org/pandas-docs/stable/user_guide/indexing.html#returning-a-view-versus-a-copy\n",
      "  dfML['ARR_DELAY_GROUP'].loc[(dfML['ARR_DELAY_GROUP']<=0)] = 0\n",
      "<ipython-input-9-1f17aa7f579a>:3: SettingWithCopyWarning: \n",
      "A value is trying to be set on a copy of a slice from a DataFrame\n",
      "\n",
      "See the caveats in the documentation: https://pandas.pydata.org/pandas-docs/stable/user_guide/indexing.html#returning-a-view-versus-a-copy\n",
      "  dfML['ARR_DELAY_GROUP'].loc[(dfML['ARR_DELAY_GROUP']>0)] = 1\n"
     ]
    }
   ],
   "source": [
    "#Merged bins \n",
    "dfML['ARR_DELAY_GROUP'].loc[(dfML['ARR_DELAY_GROUP']<=0)] = 0\n",
    "dfML['ARR_DELAY_GROUP'].loc[(dfML['ARR_DELAY_GROUP']>0)] = 1"
   ]
  },
  {
   "cell_type": "markdown",
   "metadata": {},
   "source": [
    "#### First crack at ML wooo!"
   ]
  },
  {
   "cell_type": "code",
   "execution_count": 10,
   "metadata": {},
   "outputs": [],
   "source": [
    "#Reorganize dataset into X and y\n",
    "#X = dfML[['OP_UNIQUE_CARRIER', 'ORIGIN_AIRPORT_ID', 'DEST_AIRPORT_ID',\n",
    "#          'DISTANCE_GROUP', 'tmpF_D', 'dptF_D', 'CC_D',\n",
    "#          'dir_D', 'spd_D', '6hPrecPrb_D', '6hQntPrec_D', 'ceil_D', 'visib_D',\n",
    "#          'obstruc_D', 'fzRnPrb_D', 'snowPrb_D', 'precTyp_D', '6hrTsPrb_15mi_D',\n",
    "#          '6hrSvrTsPrb_25mi_D', 'tmpF_A', 'dptF_A', 'CC_A', 'dir_A', 'spd_A',\n",
    "#          '6hPrecPrb_A', '6hQntPrec_A', 'ceil_A', 'visib_A', 'obstruc_A',\n",
    "#          'fzRnPrb_A', 'snowPrb_A', 'precTyp_A', '6hrTsPrb_15mi_A',\n",
    "#          '6hrSvrTsPrb_25mi_A']]\n",
    "\n",
    "#X = dfML[['OP_UNIQUE_CARRIER', 'ORIGIN_AIRPORT_ID', 'DEST_AIRPORT_ID',\n",
    "#          'DISTANCE_GROUP', 'tmpF_D', 'dptF_D',\n",
    "#          'dir_D', 'spd_D', '6hPrecPrb_D', '6hQntPrec_D', 'ceil_D', 'visib_D',\n",
    "#          'fzRnPrb_D', 'snowPrb_D', '6hrTsPrb_15mi_D',\n",
    "#          '6hrSvrTsPrb_25mi_D', 'tmpF_A', 'dptF_A', 'dir_A', 'spd_A',\n",
    "#          '6hPrecPrb_A', '6hQntPrec_A', 'ceil_A', 'visib_A',\n",
    "#          'fzRnPrb_A', 'snowPrb_A', '6hrTsPrb_15mi_A',\n",
    "#          '6hrSvrTsPrb_25mi_A','snow_D','snow_A','12hPrecPrb_D',\n",
    "#          '12hQntPrec_D','12hPrecPrb_A','12hQntPrec_A']]\n",
    "\n",
    "\n",
    "X = dfML[['ORIGIN_AIRPORT_ID', 'DEST_AIRPORT_ID',\n",
    "          'tmpF_D', 'dptF_D',\n",
    "          'dir_D', 'spd_D', '6hPrecPrb_D', '6hQntPrec_D', 'ceil_D', 'visib_D',\n",
    "          'fzRnPrb_D', 'snowPrb_D', '6hrTsPrb_15mi_D',\n",
    "          '6hrSvrTsPrb_25mi_D', 'tmpF_A', 'dptF_A', 'dir_A', 'spd_A',\n",
    "          '6hPrecPrb_A', '6hQntPrec_A', 'ceil_A', 'visib_A',\n",
    "          'fzRnPrb_A', 'snowPrb_A', '6hrTsPrb_15mi_A',\n",
    "          '6hrSvrTsPrb_25mi_A','snow_D','snow_A','12hPrecPrb_D',\n",
    "          '12hQntPrec_D','12hPrecPrb_A','12hQntPrec_A']]\n",
    "\n",
    "y = dfML['ARR_DELAY_GROUP']"
   ]
  },
  {
   "cell_type": "code",
   "execution_count": 11,
   "metadata": {},
   "outputs": [],
   "source": [
    "#Try normalizing dataset \n",
    "from sklearn.preprocessing import MinMaxScaler\n",
    "sc = MinMaxScaler()\n",
    "data = sc.fit_transform(X)\n",
    "\n",
    "#from sklearn.preprocessing import StandardScaler\n",
    "#sc = StandardScaler()\n",
    "#data = sc.fit_transform(X)"
   ]
  },
  {
   "cell_type": "code",
   "execution_count": 12,
   "metadata": {},
   "outputs": [
    {
     "data": {
      "text/plain": [
       "array([[0.90612033, 0.47614108, 0.125     , ..., 0.        , 0.        ,\n",
       "        0.        ],\n",
       "       [0.81846473, 0.47614108, 0.125     , ..., 0.        , 0.        ,\n",
       "        0.        ],\n",
       "       [0.30238589, 0.79737206, 0.        , ..., 0.        , 0.01      ,\n",
       "        0.        ],\n",
       "       ...,\n",
       "       [0.16096127, 0.68551176, 0.125     , ..., 0.16666667, 0.06      ,\n",
       "        0.        ],\n",
       "       [0.38105118, 0.48720609, 0.25      , ..., 0.        , 0.42      ,\n",
       "        0.        ],\n",
       "       [0.65612033, 0.68551176, 0.25      , ..., 0.16666667, 0.06      ,\n",
       "        0.        ]])"
      ]
     },
     "execution_count": 12,
     "metadata": {},
     "output_type": "execute_result"
    }
   ],
   "source": [
    "data"
   ]
  },
  {
   "cell_type": "code",
   "execution_count": 38,
   "metadata": {},
   "outputs": [],
   "source": [
    "#Split conversion dataset into train and test groups\n",
    "X_train, X_test, y_train, y_test = train_test_split(data, y)\n"
   ]
  },
  {
   "cell_type": "code",
   "execution_count": 39,
   "metadata": {},
   "outputs": [],
   "source": [
    "#Train random forest model\n",
    "#clf = RandomForestClassifier(n_estimators=10).fit(X_train, y_train)\n",
    "dt = DecisionTreeClassifier(max_depth=4).fit(X_train, y_train)"
   ]
  },
  {
   "cell_type": "code",
   "execution_count": 40,
   "metadata": {},
   "outputs": [],
   "source": [
    "#Run random forest model on test set\n",
    "#forest_predicted = clf.predict(X_test)\n",
    "\n",
    "tree_predicted = dt.predict(X_test)"
   ]
  },
  {
   "cell_type": "code",
   "execution_count": 41,
   "metadata": {
    "scrolled": true
   },
   "outputs": [
    {
     "name": "stdout",
     "output_type": "stream",
     "text": [
      "Variable: tmpF_D       Importance: 0.35\n",
      "Variable: 12hPrecPrb_D Importance: 0.17\n",
      "Variable: snow_D       Importance: 0.09\n",
      "Variable: 6hQntPrec_D  Importance: 0.08\n",
      "Variable: 6hrTsPrb_15mi_D Importance: 0.08\n",
      "Variable: ORIGIN_AIRPORT_ID Importance: 0.06\n",
      "Variable: visib_A      Importance: 0.06\n",
      "Variable: DISTANCE_GROUP Importance: 0.04\n",
      "Variable: spd_D        Importance: 0.04\n",
      "Variable: 6hrSvrTsPrb_25mi_A Importance: 0.04\n",
      "Variable: DEST_AIRPORT_ID Importance: 0.0\n",
      "Variable: dptF_D       Importance: 0.0\n",
      "Variable: dir_D        Importance: 0.0\n",
      "Variable: 6hPrecPrb_D  Importance: 0.0\n",
      "Variable: ceil_D       Importance: 0.0\n",
      "Variable: visib_D      Importance: 0.0\n",
      "Variable: fzRnPrb_D    Importance: 0.0\n",
      "Variable: snowPrb_D    Importance: 0.0\n",
      "Variable: 6hrSvrTsPrb_25mi_D Importance: 0.0\n",
      "Variable: tmpF_A       Importance: 0.0\n",
      "Variable: dptF_A       Importance: 0.0\n",
      "Variable: dir_A        Importance: 0.0\n",
      "Variable: spd_A        Importance: 0.0\n",
      "Variable: 6hPrecPrb_A  Importance: 0.0\n",
      "Variable: 6hQntPrec_A  Importance: 0.0\n",
      "Variable: ceil_A       Importance: 0.0\n",
      "Variable: fzRnPrb_A    Importance: 0.0\n",
      "Variable: snowPrb_A    Importance: 0.0\n",
      "Variable: 6hrTsPrb_15mi_A Importance: 0.0\n",
      "Variable: snow_A       Importance: 0.0\n",
      "Variable: 12hQntPrec_D Importance: 0.0\n",
      "Variable: 12hPrecPrb_A Importance: 0.0\n",
      "Variable: 12hQntPrec_A Importance: 0.0\n"
     ]
    },
    {
     "data": {
      "text/plain": [
       "[None,\n",
       " None,\n",
       " None,\n",
       " None,\n",
       " None,\n",
       " None,\n",
       " None,\n",
       " None,\n",
       " None,\n",
       " None,\n",
       " None,\n",
       " None,\n",
       " None,\n",
       " None,\n",
       " None,\n",
       " None,\n",
       " None,\n",
       " None,\n",
       " None,\n",
       " None,\n",
       " None,\n",
       " None,\n",
       " None,\n",
       " None,\n",
       " None,\n",
       " None,\n",
       " None,\n",
       " None,\n",
       " None,\n",
       " None,\n",
       " None,\n",
       " None,\n",
       " None]"
      ]
     },
     "execution_count": 41,
     "metadata": {},
     "output_type": "execute_result"
    }
   ],
   "source": [
    "# Get numerical feature importances\n",
    "features = X\n",
    "feature_list = list(features.columns)\n",
    "\n",
    "importances = list(dt.feature_importances_)\n",
    "# List of tuples with variable and importance\n",
    "feature_importances = [(feature, round(importance, 2)) for feature, importance in zip(feature_list, importances)]\n",
    "# Sort the feature importances by most important first\n",
    "feature_importances = sorted(feature_importances, key = lambda x: x[1], reverse = True)\n",
    "# Print out the feature and importances \n",
    "[print('Variable: {:12} Importance: {}'.format(*pair)) for pair in feature_importances]\n"
   ]
  },
  {
   "cell_type": "code",
   "execution_count": null,
   "metadata": {
    "scrolled": true
   },
   "outputs": [],
   "source": [
    "#Model performance\n",
    "\n",
    "#confusion = confusion_matrix(y_test, tree_predicted)\n",
    "\n",
    "#print('Confusion Matrix for decision tree classifier (max_depth = 4):\\n', confusion)\n",
    "#print (' ')\n",
    "#print ('Statistical Metrics:')\n",
    "#print('Accuracy: {:.2f}'.format(accuracy_score(y_test, tree_predicted)))\n",
    "#print('Precision: {:.2f}'.format(precision_score(y_test, tree_predicted)))\n",
    "#print('Recall: {:.2f}'.format(recall_score(y_test, tree_predicted)))\n",
    "#print('F1: {:.2f}'.format(f1_score(y_test, tree_predicted)))"
   ]
  },
  {
   "cell_type": "code",
   "execution_count": 43,
   "metadata": {},
   "outputs": [
    {
     "name": "stdout",
     "output_type": "stream",
     "text": [
      "Accuracy: 1.00\n",
      "Classification Report\n",
      "              precision    recall  f1-score   support\n",
      "\n",
      "         0.0       1.00      1.00      1.00     48478\n",
      "         1.0       0.00      0.00      0.00       197\n",
      "\n",
      "    accuracy                           1.00     48675\n",
      "   macro avg       0.50      0.50      0.50     48675\n",
      "weighted avg       0.99      1.00      0.99     48675\n",
      "\n"
     ]
    }
   ],
   "source": [
    "#Model performance\n",
    "print('Accuracy: {:.2f}'.format(accuracy_score(y_test, tree_predicted)))\n",
    "\n",
    "print('Classification Report')\n",
    "print(classification_report(y_test, tree_predicted))"
   ]
  },
  {
   "cell_type": "code",
   "execution_count": 44,
   "metadata": {},
   "outputs": [
    {
     "name": "stdout",
     "output_type": "stream",
     "text": [
      "Micro-averaged precision = 1.00 (treat instances equally)\n",
      "Macro-averaged precision = 0.50 (treat classes equally)\n",
      "Micro-averaged f1 = 1.00 (treat instances equally)\n",
      "Macro-averaged f1 = 0.50 (treat classes equally)\n"
     ]
    }
   ],
   "source": [
    "print('Micro-averaged precision = {:.2f} (treat instances equally)'\n",
    "      .format(precision_score(y_test, tree_predicted, average = 'micro')))\n",
    "print('Macro-averaged precision = {:.2f} (treat classes equally)'\n",
    "      .format(precision_score(y_test, tree_predicted, average = 'macro')))\n",
    "print('Micro-averaged f1 = {:.2f} (treat instances equally)'\n",
    "      .format(f1_score(y_test, tree_predicted, average = 'micro')))\n",
    "print('Macro-averaged f1 = {:.2f} (treat classes equally)'\n",
    "      .format(f1_score(y_test, tree_predicted, average = 'macro')))"
   ]
  },
  {
   "cell_type": "code",
   "execution_count": null,
   "metadata": {},
   "outputs": [],
   "source": [
    "tree_predicted = dt.predict(X_test[])"
   ]
  },
  {
   "cell_type": "code",
   "execution_count": 45,
   "metadata": {},
   "outputs": [
    {
     "ename": "AttributeError",
     "evalue": "'numpy.ndarray' object has no attribute 'columns'",
     "output_type": "error",
     "traceback": [
      "\u001b[0;31m---------------------------------------------------------------------------\u001b[0m",
      "\u001b[0;31mAttributeError\u001b[0m                            Traceback (most recent call last)",
      "\u001b[0;32m<ipython-input-45-2625f76b8a6d>\u001b[0m in \u001b[0;36m<module>\u001b[0;34m\u001b[0m\n\u001b[0;32m----> 1\u001b[0;31m \u001b[0mX_train\u001b[0m\u001b[0;34m.\u001b[0m\u001b[0mcolumns\u001b[0m\u001b[0;34m\u001b[0m\u001b[0;34m\u001b[0m\u001b[0m\n\u001b[0m",
      "\u001b[0;31mAttributeError\u001b[0m: 'numpy.ndarray' object has no attribute 'columns'"
     ]
    }
   ],
   "source": [
    "X_train"
   ]
  },
  {
   "cell_type": "code",
   "execution_count": null,
   "metadata": {},
   "outputs": [],
   "source": [
    "#Extra code\n",
    "#Pull out the 'X' and 'y' information for departure airport and time\n",
    "#orgdf = df[(df['ORIGIN']==UserOrigin) & (df['DEP_TIME']==depTime)]\n",
    "#orgdf = orgdf[['OP_UNIQUE_CARRIER', 'ORIGIN_AIRPORT_ID', 'ORIGIN','tmpF_D','dptF_D', 'CC_D', \n",
    "#       'dir_D', 'spd_D', '6hPrecPrb_D', '12hPrecPrb_D',\n",
    "#       '6hQntPrec_D', '12hQntPrec_D', 'snow_D', 'ceil_D', 'visib_D',\n",
    "#       'obstruc_D', 'fzRnPrb_D', 'snowPrb_D', 'precTyp_D', '6hrTsPrb_15mi_D',\n",
    "#       '6hrSvrTsPrb_25mi_D']]\n",
    "#orgdfXtmp = orgdf.iloc[0]\n",
    "#orgdfX = pd.DataFrame(data=orgdfXtmp).transpose()"
   ]
  },
  {
   "cell_type": "code",
   "execution_count": null,
   "metadata": {},
   "outputs": [],
   "source": []
  }
 ],
 "metadata": {
  "kernelspec": {
   "display_name": "Python 3",
   "language": "python",
   "name": "python3"
  },
  "language_info": {
   "codemirror_mode": {
    "name": "ipython",
    "version": 3
   },
   "file_extension": ".py",
   "mimetype": "text/x-python",
   "name": "python",
   "nbconvert_exporter": "python",
   "pygments_lexer": "ipython3",
   "version": "3.8.2"
  }
 },
 "nbformat": 4,
 "nbformat_minor": 4
}
