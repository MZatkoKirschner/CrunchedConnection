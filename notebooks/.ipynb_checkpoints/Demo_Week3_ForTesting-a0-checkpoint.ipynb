{
 "cells": [
  {
   "cell_type": "markdown",
   "metadata": {},
   "source": [
    "# Clean Connection"
   ]
  },
  {
   "cell_type": "code",
   "execution_count": 1,
   "metadata": {},
   "outputs": [],
   "source": [
    "#Import modules\n",
    "import pandas as pd\n",
    "import numpy as np\n",
    "from sklearn.model_selection import train_test_split\n",
    "from sklearn.preprocessing import MinMaxScaler\n",
    "from sklearn.ensemble import RandomForestClassifier"
   ]
  },
  {
   "cell_type": "code",
   "execution_count": 2,
   "metadata": {},
   "outputs": [],
   "source": [
    "#Read merged flight+met data for ML and perform slight processing\n",
    "file2019 = '../data/processed/merged/2019_FlightMetMerged.csv'\n",
    "df2019 = pd.read_csv(file2019)\n",
    "\n",
    "file2018 = '../data/processed/merged/2018_FlightMetMerged.csv'\n",
    "df2018 = pd.read_csv(file2018)\n",
    "\n",
    "file2017 = '../data/processed/merged/2017_FlightMetMerged.csv'\n",
    "df2017 = pd.read_csv(file2017)"
   ]
  },
  {
   "cell_type": "code",
   "execution_count": 7,
   "metadata": {},
   "outputs": [],
   "source": [
    "#Combine 2018 and 2019\n",
    "dftmp = [df2017,df2018,df2019]\n",
    "df = pd.concat(dftmp)"
   ]
  },
  {
   "cell_type": "code",
   "execution_count": null,
   "metadata": {},
   "outputs": [],
   "source": [
    "#Read merged flight+met data for ML and perform slight processing\n",
    "#file2019 = '../data/processed/merged/2019_FlightMetMerged.csv'\n",
    "#df = pd.read_csv(file2019)"
   ]
  },
  {
   "cell_type": "code",
   "execution_count": 8,
   "metadata": {},
   "outputs": [],
   "source": [
    "df.drop_duplicates(inplace=True)"
   ]
  },
  {
   "cell_type": "code",
   "execution_count": null,
   "metadata": {},
   "outputs": [],
   "source": [
    "#Read in airport region data (region by timezone)\n",
    "#regionFile = '../data/raw/met/airport_regions.csv'\n",
    "#regions = pd.read_csv(regionFile,skiprows=1)\n",
    "\n",
    "#regions['airport'] = 'K' + regions['iata_code']\n",
    "#regions['airport'].loc[regions['airport']=='KANC'] = 'PANC' #Anchorage\n",
    "#regions['airport'].loc[regions['airport']=='KHNL'] = 'PHLN' #Honolulu\n",
    "\n",
    "#regions.drop(columns=['iata_code','iana_tz','windows_tz'],axis=1,inplace=True)"
   ]
  },
  {
   "cell_type": "code",
   "execution_count": null,
   "metadata": {},
   "outputs": [],
   "source": [
    "#df['DELAY_MIN'] = df['WEATHER_DELAY'] + df['NAS_DELAY'] + df['LATE_AIRCRAFT_DELAY']"
   ]
  },
  {
   "cell_type": "code",
   "execution_count": 9,
   "metadata": {},
   "outputs": [],
   "source": [
    "df.drop(columns=['CANCELLED','DIVERTED','WEATHER_DELAY','NAS_DELAY','LATE_AIRCRAFT_DELAY'],axis=1,inplace=True)"
   ]
  },
  {
   "cell_type": "code",
   "execution_count": 10,
   "metadata": {
    "collapsed": true
   },
   "outputs": [
    {
     "name": "stderr",
     "output_type": "stream",
     "text": [
      "/opt/anaconda3/envs/insight/lib/python3.8/site-packages/pandas/core/indexing.py:671: SettingWithCopyWarning: \n",
      "A value is trying to be set on a copy of a slice from a DataFrame\n",
      "\n",
      "See the caveats in the documentation: https://pandas.pydata.org/pandas-docs/stable/user_guide/indexing.html#returning-a-view-versus-a-copy\n",
      "  self._setitem_with_indexer(indexer, value)\n",
      "<ipython-input-10-a651856ebfc7>:12: SettingWithCopyWarning: \n",
      "A value is trying to be set on a copy of a slice from a DataFrame\n",
      "\n",
      "See the caveats in the documentation: https://pandas.pydata.org/pandas-docs/stable/user_guide/indexing.html#returning-a-view-versus-a-copy\n",
      "  dfML['ARR_DELAY_GROUP'].loc[(dfML['ARR_DELAY_GROUP']<=0)] = 0\n",
      "<ipython-input-10-a651856ebfc7>:13: SettingWithCopyWarning: \n",
      "A value is trying to be set on a copy of a slice from a DataFrame\n",
      "\n",
      "See the caveats in the documentation: https://pandas.pydata.org/pandas-docs/stable/user_guide/indexing.html#returning-a-view-versus-a-copy\n",
      "  dfML['ARR_DELAY_GROUP'].loc[(dfML['ARR_DELAY_GROUP']>0) & (dfML['ARR_DELAY_GROUP']<4)] = 1\n",
      "<ipython-input-10-a651856ebfc7>:14: SettingWithCopyWarning: \n",
      "A value is trying to be set on a copy of a slice from a DataFrame\n",
      "\n",
      "See the caveats in the documentation: https://pandas.pydata.org/pandas-docs/stable/user_guide/indexing.html#returning-a-view-versus-a-copy\n",
      "  dfML['ARR_DELAY_GROUP'].loc[(dfML['ARR_DELAY_GROUP']>=4) & (dfML['ARR_DELAY_GROUP']<8)] = 2\n",
      "<ipython-input-10-a651856ebfc7>:15: SettingWithCopyWarning: \n",
      "A value is trying to be set on a copy of a slice from a DataFrame\n",
      "\n",
      "See the caveats in the documentation: https://pandas.pydata.org/pandas-docs/stable/user_guide/indexing.html#returning-a-view-versus-a-copy\n",
      "  dfML['ARR_DELAY_GROUP'].loc[(dfML['ARR_DELAY_GROUP']>=8)] = 3\n"
     ]
    }
   ],
   "source": [
    "#For df used for ML modeling \n",
    "dfML = df.dropna() \n",
    "\n",
    "#Merged arrival bins for simplicity for now\n",
    "#df['ARR_DELAY_NEW_BINS'] = 0\n",
    "#df.loc[(df['DELAY_MIN']>0) & (df['DELAY_MIN']<15),'ARR_DELAY_NEW_BINS'] = 1\n",
    "#df.loc[df['ARR_DELAY_GROUP']>=1,'ARR_DELAY_NEW_BINS'] = 1\n",
    "\n",
    "dfML['ARR_DELAY_GROUP'].loc[(dfML['ARR_DELAY_GROUP']<=0)] = 0\n",
    "dfML['ARR_DELAY_GROUP'].loc[(dfML['ARR_DELAY_GROUP']>0)] = 1\n",
    "\n",
    "#dfML['ARR_DELAY_GROUP'].loc[(dfML['ARR_DELAY_GROUP']<=0)] = 0\n",
    "#dfML['ARR_DELAY_GROUP'].loc[(dfML['ARR_DELAY_GROUP']>0) & (dfML['ARR_DELAY_GROUP']<4)] = 1\n",
    "#dfML['ARR_DELAY_GROUP'].loc[(dfML['ARR_DELAY_GROUP']>=4) & (dfML['ARR_DELAY_GROUP']<8)] = 2\n",
    "#dfML['ARR_DELAY_GROUP'].loc[(dfML['ARR_DELAY_GROUP']>=8)] = 3\n",
    "\n",
    "#Drop any row from df with nans for ML model, drop columns columns that are not needed\n",
    "#df.drop('DELAY_MIN',inplace=True,axis=1)\n",
    "#dfML = df.dropna() "
   ]
  },
  {
   "cell_type": "code",
   "execution_count": null,
   "metadata": {},
   "outputs": [],
   "source": [
    "#Merge so airport region-by-timezone\n",
    "#result = pd.merge(dfML,regions,left_on=['ORIGIN'],right_on=['airport'])\n",
    "#result.drop('airport',axis=1,inplace=True)\n",
    "#result.rename(columns={\"region\":\"ORIG_REGION\"},inplace=True)\n",
    "\n",
    "#dfMLmerged = pd.merge(result,regions,left_on=['DEST'],right_on=['airport'])\n",
    "#dfMLmerged.drop('airport',axis=1,inplace=True)\n",
    "#dfMLmerged.rename(columns={\"region\":\"DEST_REGION\"},inplace=True)"
   ]
  },
  {
   "cell_type": "code",
   "execution_count": 11,
   "metadata": {},
   "outputs": [
    {
     "name": "stderr",
     "output_type": "stream",
     "text": [
      "/opt/anaconda3/envs/insight/lib/python3.8/site-packages/pandas/core/generic.py:6746: SettingWithCopyWarning: \n",
      "A value is trying to be set on a copy of a slice from a DataFrame\n",
      "\n",
      "See the caveats in the documentation: https://pandas.pydata.org/pandas-docs/stable/user_guide/indexing.html#returning-a-view-versus-a-copy\n",
      "  self._update_inplace(new_data)\n"
     ]
    }
   ],
   "source": [
    "#Convert non-numeric to numeric\n",
    "dfML['OP_UNIQUE_CARRIER'].replace({'MQ':1,'AA':2,'B6':3,'OO':4,'OH':5,'UA':6,'AS':7,'NK':8,\n",
    "                                 'YX':9,'YV':10,'WN':11,'DL':12,'EV':13,'9E':14,'F9':15,'HA':16,'G4':17,'VX':18},inplace=True)"
   ]
  },
  {
   "cell_type": "code",
   "execution_count": 12,
   "metadata": {
    "scrolled": true
   },
   "outputs": [
    {
     "name": "stderr",
     "output_type": "stream",
     "text": [
      "<ipython-input-12-61e0cdaa2336>:1: SettingWithCopyWarning: \n",
      "A value is trying to be set on a copy of a slice from a DataFrame.\n",
      "Try using .loc[row_indexer,col_indexer] = value instead\n",
      "\n",
      "See the caveats in the documentation: https://pandas.pydata.org/pandas-docs/stable/user_guide/indexing.html#returning-a-view-versus-a-copy\n",
      "  dfML['DEP_TIME'] = pd.to_datetime(dfML['DEP_TIME'])\n",
      "<ipython-input-12-61e0cdaa2336>:2: SettingWithCopyWarning: \n",
      "A value is trying to be set on a copy of a slice from a DataFrame.\n",
      "Try using .loc[row_indexer,col_indexer] = value instead\n",
      "\n",
      "See the caveats in the documentation: https://pandas.pydata.org/pandas-docs/stable/user_guide/indexing.html#returning-a-view-versus-a-copy\n",
      "  dfML['ARR_TIME'] = pd.to_datetime(dfML['ARR_TIME'])\n",
      "<ipython-input-12-61e0cdaa2336>:18: SettingWithCopyWarning: \n",
      "A value is trying to be set on a copy of a slice from a DataFrame.\n",
      "Try using .loc[row_indexer,col_indexer] = value instead\n",
      "\n",
      "See the caveats in the documentation: https://pandas.pydata.org/pandas-docs/stable/user_guide/indexing.html#returning-a-view-versus-a-copy\n",
      "  dfML['month'] = dfML['DEP_TIME'].dt.month\n",
      "<ipython-input-12-61e0cdaa2336>:19: SettingWithCopyWarning: \n",
      "A value is trying to be set on a copy of a slice from a DataFrame.\n",
      "Try using .loc[row_indexer,col_indexer] = value instead\n",
      "\n",
      "See the caveats in the documentation: https://pandas.pydata.org/pandas-docs/stable/user_guide/indexing.html#returning-a-view-versus-a-copy\n",
      "  dfML['hour'] = dfML['DEP_TIME'].dt.hour\n",
      "<ipython-input-12-61e0cdaa2336>:20: SettingWithCopyWarning: \n",
      "A value is trying to be set on a copy of a slice from a DataFrame.\n",
      "Try using .loc[row_indexer,col_indexer] = value instead\n",
      "\n",
      "See the caveats in the documentation: https://pandas.pydata.org/pandas-docs/stable/user_guide/indexing.html#returning-a-view-versus-a-copy\n",
      "  dfML['DOW'] = dfML['DEP_TIME'].dt.dayofweek\n",
      "<ipython-input-12-61e0cdaa2336>:21: SettingWithCopyWarning: \n",
      "A value is trying to be set on a copy of a slice from a DataFrame.\n",
      "Try using .loc[row_indexer,col_indexer] = value instead\n",
      "\n",
      "See the caveats in the documentation: https://pandas.pydata.org/pandas-docs/stable/user_guide/indexing.html#returning-a-view-versus-a-copy\n",
      "  dfML['DOY'] = dfML['DEP_TIME'].dt.dayofyear\n"
     ]
    }
   ],
   "source": [
    "dfML['DEP_TIME'] = pd.to_datetime(dfML['DEP_TIME'])\n",
    "dfML['ARR_TIME'] = pd.to_datetime(dfML['ARR_TIME'])\n",
    "\n",
    "#Convert date infomation to feature info\n",
    "#dfML.loc[(dfML['DEP_TIME'].dt.month==1) | (dfML['DEP_TIME'].dt.month==2) | (dfML['DEP_TIME'].dt.month==3),'SEASON'] = 1\n",
    "#dfML.loc[(dfML['DEP_TIME'].dt.month==4) | (dfML['DEP_TIME'].dt.month==5) | (dfML['DEP_TIME'].dt.month==6),'SEASON'] = 2\n",
    "#dfML.loc[(dfML['DEP_TIME'].dt.month==7) | (dfML['DEP_TIME'].dt.month==8) | (dfML['DEP_TIME'].dt.month==9),'SEASON'] = 3\n",
    "#dfML.loc[(dfML['DEP_TIME'].dt.month==10) | (dfML['DEP_TIME'].dt.month==11) | (dfML['DEP_TIME'].dt.month==12),'SEASON'] = 4\n",
    "\n",
    "#dfML.loc[(dfML['DEP_TIME'].dt.hour>=1) | (dfML['DEP_TIME'].dt.month<8),'TOD'] = 1\n",
    "#dfML.loc[(dfML['DEP_TIME'].dt.hour>=9) | (dfML['DEP_TIME'].dt.month<14),'TOD'] = 2\n",
    "#dfML.loc[(dfML['DEP_TIME'].dt.hour>=15) | (dfML['DEP_TIME'].dt.month<23),'TOD'] = 3\n",
    "\n",
    "#dfMLmerged['month'] = dfMLmerged['DEP_TIME'].dt.month\n",
    "#dfMLmerged['hour'] = dfMLmerged['DEP_TIME'].dt.hour\n",
    "#dfMLmerged['DOW'] = dfMLmerged['DEP_TIME'].dt.dayofweek\n",
    "\n",
    "dfML['month'] = dfML['DEP_TIME'].dt.month\n",
    "dfML['hour'] = dfML['DEP_TIME'].dt.hour\n",
    "dfML['DOW'] = dfML['DEP_TIME'].dt.dayofweek\n",
    "dfML['DOY'] = dfML['DEP_TIME'].dt.dayofyear"
   ]
  },
  {
   "cell_type": "code",
   "execution_count": 13,
   "metadata": {},
   "outputs": [
    {
     "name": "stderr",
     "output_type": "stream",
     "text": [
      "<ipython-input-13-79210e056ed6>:1: SettingWithCopyWarning: \n",
      "A value is trying to be set on a copy of a slice from a DataFrame.\n",
      "Try using .loc[row_indexer,col_indexer] = value instead\n",
      "\n",
      "See the caveats in the documentation: https://pandas.pydata.org/pandas-docs/stable/user_guide/indexing.html#returning-a-view-versus-a-copy\n",
      "  dfML['ORIGIN-DEST'] = dfML['ORIGIN_AIRPORT_ID'] - dfML['DEST_AIRPORT_ID']\n"
     ]
    }
   ],
   "source": [
    "dfML['ORIGIN-DEST'] = dfML['ORIGIN_AIRPORT_ID'] - dfML['DEST_AIRPORT_ID']"
   ]
  },
  {
   "cell_type": "code",
   "execution_count": 14,
   "metadata": {},
   "outputs": [],
   "source": [
    "#X = dfML[['spd_D', 'fzRnPrb_D', 'snowPrb_D', '6hrTsPrb_15mi_D',\n",
    "#          '6hrSvrTsPrb_25mi_D', 'fzRnPrb_A', 'snowPrb_A', \n",
    "#          '6hrTsPrb_15mi_A','6hrSvrTsPrb_25mi_A','6hPrecPrb_D','6hPrecPrb_A','12hPrecPrb_D',\n",
    "#          '12hPrecPrb_A','snow_D','snow_A','spd_A','tmpF_D', 'dptF_D','tmpF_A', 'dptF_A', \n",
    "#          'ceil_D','ceil_A','visib_D','visib_A','6hQntPrec_D','6hQntPrec_A','12hQntPrec_A','12hQntPrec_D']]\n",
    "\n",
    "#X = dfML[['spd_D', 'fzRnPrb_D', 'snowPrb_D', '6hrTsPrb_15mi_D',\n",
    "#          '6hrSvrTsPrb_25mi_D', 'fzRnPrb_A', 'snowPrb_A', \n",
    "#          '6hrTsPrb_15mi_A','6hrSvrTsPrb_25mi_A','6hPrecPrb_D','6hPrecPrb_A','12hPrecPrb_D',\n",
    "#          '12hPrecPrb_A','snow_D','snow_A','spd_A','tmpF_D', 'dptF_D','tmpF_A', 'dptF_A', \n",
    "#          'ceil_D','ceil_A','visib_D','visib_A','6hQntPrec_D','6hQntPrec_A','12hQntPrec_A','12hQntPrec_D',\n",
    "#          'OP_UNIQUE_CARRIER','DISTANCE_GROUP','ORIGIN_AIRPORT_ID','DEST_AIRPORT_ID','SEASON']]\n",
    "\n",
    "#X = dfML[['spd_D', 'fzRnPrb_D', 'snowPrb_D', '6hrTsPrb_15mi_D',\n",
    "#          '6hrSvrTsPrb_25mi_D', 'fzRnPrb_A', 'snowPrb_A', \n",
    "#          '6hrTsPrb_15mi_A','6hrSvrTsPrb_25mi_A','6hPrecPrb_D','6hPrecPrb_A','12hPrecPrb_D',\n",
    "#          '12hPrecPrb_A','snow_D','snow_A','spd_A','tmpF_D', 'dptF_D','tmpF_A', 'dptF_A', \n",
    "#          'ceil_D','ceil_A','visib_D','visib_A','6hQntPrec_D','6hQntPrec_A','12hQntPrec_A','12hQntPrec_D',\n",
    "#          'OP_UNIQUE_CARRIER','DISTANCE_GROUP','SEASON','TOD']]\n",
    "\n",
    "X = dfML[['spd_D', 'fzRnPrb_D', 'snowPrb_D', '6hrTsPrb_15mi_D',\n",
    "          '6hrSvrTsPrb_25mi_D', 'fzRnPrb_A', 'snowPrb_A', \n",
    "          '6hrTsPrb_15mi_A','6hrSvrTsPrb_25mi_A','6hPrecPrb_D','6hPrecPrb_A','12hPrecPrb_D',\n",
    "          '12hPrecPrb_A','snow_D','snow_A','spd_A','tmpF_D', 'dptF_D','tmpF_A', 'dptF_A', \n",
    "          'ceil_D','ceil_A','visib_D','visib_A','6hQntPrec_D','6hQntPrec_A','12hQntPrec_A','12hQntPrec_D',\n",
    "          'OP_UNIQUE_CARRIER','DISTANCE_GROUP','month','hour','DOW','DOY','ORIGIN-DEST']]\n",
    "\n",
    "#X = dfML[['spd_D', 'fzRnPrb_D', 'snowPrb_D', '6hrTsPrb_15mi_D',\n",
    "#          '6hrSvrTsPrb_25mi_D', 'fzRnPrb_A', 'snowPrb_A', \n",
    "#          '6hrTsPrb_15mi_A','6hrSvrTsPrb_25mi_A','6hPrecPrb_D','6hPrecPrb_A','12hPrecPrb_D',\n",
    "#          '12hPrecPrb_A','snow_D','snow_A','spd_A','tmpF_D', 'dptF_D','tmpF_A', 'dptF_A', \n",
    "#          'ceil_D','ceil_A','visib_D','visib_A','6hQntPrec_D','6hQntPrec_A','12hQntPrec_A','12hQntPrec_D',\n",
    "#          'OP_UNIQUE_CARRIER','DISTANCE_GROUP','month','hour','DOW','ORIGIN_AIRPORT_ID','DEST_AIRPORT_ID']]\n",
    "\n",
    "\n",
    "#X = dfML[['OP_UNIQUE_CARRIER','DISTANCE_GROUP','month','hour','DOW','ORIGIN_AIRPORT_ID','DEST_AIRPORT_ID','ORIGIN-DEST']]\n",
    "\n",
    "y = dfML['ARR_DELAY_GROUP']"
   ]
  },
  {
   "cell_type": "code",
   "execution_count": null,
   "metadata": {},
   "outputs": [],
   "source": [
    "#Add in log of variables too\n",
    "# X['spd_D_log'] = np.log(X['spd_D']+1)\n",
    "# X['spd_A_log'] = np.log(X['spd_A']+1)\n",
    "\n",
    "# X['6hPrecPrb_D_log'] = np.log(X['6hPrecPrb_D']+1)\n",
    "# X['6hPrecPrb_A_log'] = np.log(X['6hPrecPrb_A']+1)\n",
    "\n",
    "# X['fzRnPrb_D_log'] = np.log(X['fzRnPrb_D']+1)\n",
    "# X['fzRnPrb_A_log'] = np.log(X['fzRnPrb_A']+1)\n",
    "\n",
    "# X['snowPrb_D_log'] = np.log(X['snowPrb_D']+1)\n",
    "# X['snowPrb_A_log'] = np.log(X['snowPrb_A']+1)\n",
    "\n",
    "# X['6hrTsPrb_15mi_D_log'] = np.log(X['6hrTsPrb_15mi_D']+1)\n",
    "# X['6hrTsPrb_15mi_A_log'] = np.log(X['6hrTsPrb_15mi_A']+1)\n",
    "\n",
    "# X['6hrSvrTsPrb_25mi_D_log'] = np.log(X['6hrSvrTsPrb_25mi_D']+1)\n",
    "# X['6hrSvrTsPrb_25mi_A_log'] = np.log(X['6hrSvrTsPrb_25mi_A']+1)\n",
    "\n",
    "# X['12hPrecPrb_D_log'] = np.log(X['12hPrecPrb_D']+1)\n",
    "# X['12hPrecPrb_A_log'] = np.log(X['12hPrecPrb_A']+1)"
   ]
  },
  {
   "cell_type": "code",
   "execution_count": 15,
   "metadata": {},
   "outputs": [],
   "source": [
    "#Split conversion dataset into train and test groups\n",
    "#X_train, X_test, y_train, y_test = train_test_split(X, y)\n",
    "X_train, X_test, y_train, y_test = train_test_split(X, y,stratify=y,shuffle=True,random_state=42)"
   ]
  },
  {
   "cell_type": "code",
   "execution_count": 16,
   "metadata": {},
   "outputs": [],
   "source": [
    "#Undersample the training dataset (and test one for kicks)\n",
    "from imblearn.under_sampling import RandomUnderSampler\n",
    "rus = RandomUnderSampler(random_state=42)\n",
    "X_res, y_res = rus.fit_resample(X_train, y_train)\n",
    "#X_res_test, y_res_test = rus.fit_resample(X_test, y_test)"
   ]
  },
  {
   "cell_type": "code",
   "execution_count": null,
   "metadata": {},
   "outputs": [],
   "source": [
    "#from sklearn.preprocessing import MinMaxScaler\n",
    "#scaler = MinMaxScaler()\n",
    "#X_train_scaled = scaler.fit_transform(X_train)\n",
    "# we must apply the scaling to the test set that we computed for the training set\n",
    "#X_test_scaled = scaler.transform(X_test)\n",
    "\n",
    "#from sklearn.preprocessing import StandardScaler\n",
    "#scaler = StandardScaler()\n",
    "#scaler.fit(X_train)\n",
    "#X_train_scale = scaler.transform(X_train)\n",
    "#X_test_scale = scaler.transform(X_test)"
   ]
  },
  {
   "cell_type": "code",
   "execution_count": null,
   "metadata": {},
   "outputs": [],
   "source": [
    "#from imblearn.under_sampling import RandomUnderSampler\n",
    "#from imblearn.over_sampling import SMOTENC\n",
    "#smote = SMOTENC(categorical_features=[20,21,22,23,28,29,30,31,32,33,34], random_state=42)\n",
    "#X_sm,y_sm = smote.fit_sample(X_train, y_train)"
   ]
  },
  {
   "cell_type": "code",
   "execution_count": null,
   "metadata": {},
   "outputs": [],
   "source": [
    "#from imblearn.over_sampling import SMOTE\n",
    "#smote = SMOTE(random_state=42)\n",
    "#X_sm,y_sm = smote.fit_sample(X_train, y_train)"
   ]
  },
  {
   "cell_type": "code",
   "execution_count": 20,
   "metadata": {},
   "outputs": [],
   "source": [
    "#Train random forest model\n",
    "#clf = RandomForestClassifier(n_estimators=100,n_jobs=4,class_weight='balanced').fit(X_train, y_train)\n",
    "\n",
    "#clf = RandomForestClassifier(n_estimators=10,n_jobs=5,class_weight='balanced',random_state=42).fit(X_train_scaled, y_train)\n",
    "\n",
    "#clf = RandomForestClassifier(n_estimators=10,n_jobs=5,class_weight='balanced',random_state=42).fit(X_train, y_train)\n",
    "\n",
    "#clf = RandomForestClassifier(n_estimators=10,n_jobs=5,class_weight='balanced',random_state=42).fit(X_sm, y_sm)\n",
    "\n",
    "clf = RandomForestClassifier(n_estimators=20,n_jobs=5,class_weight='balanced',random_state=42).fit(X_res, y_res)\n"
   ]
  },
  {
   "cell_type": "code",
   "execution_count": 21,
   "metadata": {},
   "outputs": [],
   "source": [
    "#Run trained model on test set\n",
    "forest_predicted = clf.predict(X_test)\n",
    "#forest_predicted = clf.predict(X_res_test)"
   ]
  },
  {
   "cell_type": "code",
   "execution_count": 22,
   "metadata": {},
   "outputs": [
    {
     "name": "stdout",
     "output_type": "stream",
     "text": [
      "Classification Report\n",
      "              precision    recall  f1-score   support\n",
      "\n",
      "    < 15 min       0.95      0.60      0.73   3854091\n",
      "      15-1hr       0.10      0.31      0.15    310613\n",
      "     1hr-2hr       0.06      0.33      0.09     94730\n",
      "       >2 hr       0.07      0.42      0.12     58209\n",
      "\n",
      "    accuracy                           0.57   4317643\n",
      "   macro avg       0.29      0.41      0.27   4317643\n",
      "weighted avg       0.86      0.57      0.67   4317643\n",
      "\n",
      " \n",
      "Micro-averaged precision = 0.57 (treat instances equally)\n",
      "Macro-averaged precision = 0.29 (treat classes equally)\n",
      "Micro-averaged f1 = 0.57 (treat instances equally)\n",
      "Macro-averaged f1 = 0.27 (treat classes equally)\n",
      " \n",
      "Matthews correlation coefficient = 0.13\n"
     ]
    }
   ],
   "source": [
    "from sklearn.metrics import confusion_matrix\n",
    "from sklearn.metrics import accuracy_score, precision_score, recall_score, f1_score\n",
    "from sklearn.metrics import classification_report\n",
    "from sklearn.metrics import matthews_corrcoef\n",
    "\n",
    "print('Classification Report')\n",
    "print(classification_report(y_test, forest_predicted,target_names=['< 15 min', '15-1hr','1hr-2hr','>2 hr']))\n",
    "#print(classification_report(y_test, forest_predicted,target_names=['0', '1']))\n",
    "\n",
    "print (' ')\n",
    "\n",
    "print('Micro-averaged precision = {:.2f} (treat instances equally)'\n",
    "       .format(precision_score(y_test, forest_predicted, average = 'micro')))\n",
    "print('Macro-averaged precision = {:.2f} (treat classes equally)'\n",
    "      .format(precision_score(y_test, forest_predicted, average = 'macro')))\n",
    "print('Micro-averaged f1 = {:.2f} (treat instances equally)'\n",
    "      .format(f1_score(y_test, forest_predicted, average = 'micro')))\n",
    "print('Macro-averaged f1 = {:.2f} (treat classes equally)'\n",
    "      .format(f1_score(y_test, forest_predicted, average = 'macro')))\n",
    "\n",
    "print (' ')\n",
    "\n",
    "print('Matthews correlation coefficient = {:.2f}'\n",
    "      .format(matthews_corrcoef(y_test, forest_predicted)))"
   ]
  },
  {
   "cell_type": "code",
   "execution_count": null,
   "metadata": {},
   "outputs": [],
   "source": [
    "#from sklearn.metrics import confusion_matrix\n",
    "#from sklearn.metrics import accuracy_score, precision_score, recall_score, f1_score\n",
    "#from sklearn.metrics import classification_report\n",
    "#from sklearn.metrics import matthews_corrcoef\n",
    "\n",
    "#print('Classification Report')\n",
    "#print(classification_report(y_res_test, forest_predicted,target_names=['< 15 min', '15-1hr','1hr-2hr','>2 hr']))\n",
    "#print(classification_report(y_test, forest_predicted,target_names=['0', '1']))\n",
    "\n",
    "#print (' ')\n",
    "\n",
    "#print('Micro-averaged precision = {:.2f} (treat instances equally)'\n",
    "#      .format(precision_score(y_res_test, forest_predicted, average = 'micro')))\n",
    "#print('Macro-averaged precision = {:.2f} (treat classes equally)'\n",
    "#      .format(precision_score(y_res_test, forest_predicted, average = 'macro')))\n",
    "#print('Micro-averaged f1 = {:.2f} (treat instances equally)'\n",
    "#      .format(f1_score(y_res_test, forest_predicted, average = 'micro')))\n",
    "#print('Macro-averaged f1 = {:.2f} (treat classes equally)'\n",
    "#      .format(f1_score(y_res_test, forest_predicted, average = 'macro')))\n",
    "\n",
    "#print (' ')\n",
    "\n",
    "#print('Matthews correlation coefficient = {:.2f}'\n",
    "#      .format(matthews_corrcoef(y_res_test, forest_predicted)))"
   ]
  },
  {
   "cell_type": "code",
   "execution_count": null,
   "metadata": {},
   "outputs": [],
   "source": [
    "#Predict probabilities\n",
    "#predictions = clf.predict_proba(X_test)\n",
    "#predictions"
   ]
  },
  {
   "cell_type": "code",
   "execution_count": null,
   "metadata": {},
   "outputs": [],
   "source": [
    "from sklearn.dummy import DummyClassifier\n",
    "\n",
    "# Negative class (0) is most frequent\n",
    "#dummy_majority = DummyClassifier(strategy = 'most_frequent').fit(X_train, y_train)\n",
    "# Therefore the dummy 'most_frequent' classifier always predicts class 0\n",
    "#y_dummy_predictions = dummy_majority.predict(X_test)\n",
    "\n",
    "dummy_classprop = DummyClassifier(strategy='stratified').fit(X_train, y_train)\n",
    "y_classprop_predicted = dummy_classprop.predict(X_test)\n",
    "\n",
    "print('Random class-proportional (dummy)\\n', \n",
    "      #classification_report(y_test, y_classprop_predicted, target_names=['0', '1']))\n",
    "      classification_report(y_test, y_classprop_predicted, target_names=['< 15 min', '15-1hr','1hr-2hr','>2 hr']))"
   ]
  },
  {
   "cell_type": "code",
   "execution_count": null,
   "metadata": {},
   "outputs": [],
   "source": []
  },
  {
   "cell_type": "code",
   "execution_count": null,
   "metadata": {},
   "outputs": [],
   "source": []
  }
 ],
 "metadata": {
  "kernelspec": {
   "display_name": "Python 3",
   "language": "python",
   "name": "python3"
  },
  "language_info": {
   "codemirror_mode": {
    "name": "ipython",
    "version": 3
   },
   "file_extension": ".py",
   "mimetype": "text/x-python",
   "name": "python",
   "nbconvert_exporter": "python",
   "pygments_lexer": "ipython3",
   "version": "3.8.2"
  }
 },
 "nbformat": 4,
 "nbformat_minor": 4
}
