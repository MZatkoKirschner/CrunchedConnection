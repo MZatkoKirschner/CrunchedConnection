{
 "cells": [
  {
   "cell_type": "markdown",
   "metadata": {},
   "source": [
    "# Clean Connection"
   ]
  },
  {
   "cell_type": "code",
   "execution_count": 1,
   "metadata": {},
   "outputs": [],
   "source": [
    "#Import modules\n",
    "import pandas as pd\n",
    "import numpy as np\n",
    "from sklearn.model_selection import train_test_split\n",
    "from sklearn.preprocessing import MinMaxScaler\n",
    "from sklearn.ensemble import RandomForestClassifier"
   ]
  },
  {
   "cell_type": "code",
   "execution_count": 2,
   "metadata": {},
   "outputs": [],
   "source": [
    "#Read merged flight+met data for ML and perform slight processing\n",
    "file2019 = '../data/processed/merged/2019_FlightMetMerged.csv'\n",
    "df2019 = pd.read_csv(file2019)\n",
    "\n",
    "file2018 = '../data/processed/merged/2018_FlightMetMerged.csv'\n",
    "df2018 = pd.read_csv(file2018)\n",
    "\n",
    "file2017 = '../data/processed/merged/2017_FlightMetMerged.csv'\n",
    "df2017 = pd.read_csv(file2017)"
   ]
  },
  {
   "cell_type": "code",
   "execution_count": 3,
   "metadata": {},
   "outputs": [],
   "source": [
    "#Combine 2018 and 2019\n",
    "dftmp = [df2017,df2018,df2019]\n",
    "df = pd.concat(dftmp)"
   ]
  },
  {
   "cell_type": "code",
   "execution_count": null,
   "metadata": {},
   "outputs": [],
   "source": [
    "#Read merged flight+met data for ML and perform slight processing\n",
    "#file2019 = '../data/processed/merged/2019_FlightMetMerged.csv'\n",
    "#df = pd.read_csv(file2019)"
   ]
  },
  {
   "cell_type": "code",
   "execution_count": 4,
   "metadata": {},
   "outputs": [],
   "source": [
    "df.drop_duplicates(inplace=True)"
   ]
  },
  {
   "cell_type": "code",
   "execution_count": 7,
   "metadata": {
    "collapsed": true
   },
   "outputs": [
    {
     "name": "stderr",
     "output_type": "stream",
     "text": [
      "/opt/anaconda3/envs/insight/lib/python3.8/site-packages/pandas/core/indexing.py:671: SettingWithCopyWarning: \n",
      "A value is trying to be set on a copy of a slice from a DataFrame\n",
      "\n",
      "See the caveats in the documentation: https://pandas.pydata.org/pandas-docs/stable/user_guide/indexing.html#returning-a-view-versus-a-copy\n",
      "  self._setitem_with_indexer(indexer, value)\n"
     ]
    }
   ],
   "source": [
    "#Read in airport region data (region by timezone)\n",
    "regionFile = '../data/raw/met/airport_regions.csv'\n",
    "regions = pd.read_csv(regionFile,skiprows=1)\n",
    "\n",
    "regions['airport'] = 'K' + regions['iata_code']\n",
    "regions['airport'].loc[regions['airport']=='KANC'] = 'PANC' #Anchorage\n",
    "regions['airport'].loc[regions['airport']=='KHNL'] = 'PHLN' #Honolulu\n",
    "\n",
    "regions.drop(columns=['iata_code','iana_tz','windows_tz'],axis=1,inplace=True)"
   ]
  },
  {
   "cell_type": "code",
   "execution_count": null,
   "metadata": {},
   "outputs": [],
   "source": [
    "#df['DELAY_MIN'] = df['WEATHER_DELAY'] + df['NAS_DELAY'] + df['LATE_AIRCRAFT_DELAY']"
   ]
  },
  {
   "cell_type": "code",
   "execution_count": 15,
   "metadata": {},
   "outputs": [],
   "source": [
    "dfcc = df[ (df['CANCELLATION_CODE']!='A') & (df['CANCELLATION_CODE']!='C') & (df['CANCELLATION_CODE']!='D') ]"
   ]
  },
  {
   "cell_type": "code",
   "execution_count": 27,
   "metadata": {},
   "outputs": [],
   "source": [
    "#Drop rows where aircraft is late and there is no delay associated with severe weather\n",
    "#Note, we may also want to drop rows where there is a late aircraft and also no NAS delays\n",
    "dfccNoLate = dfcc[~ ( (dfcc['LATE_AIRCRAFT_DELAY']>0) & (dfcc['WEATHER_DELAY']==0) ) ]"
   ]
  },
  {
   "cell_type": "code",
   "execution_count": 33,
   "metadata": {},
   "outputs": [
    {
     "data": {
      "text/plain": [
       "Index(['OP_UNIQUE_CARRIER', 'OP_CARRIER_AIRLINE_ID', 'OP_CARRIER',\n",
       "       'ORIGIN_AIRPORT_ID', 'ORIGIN', 'DEST_AIRPORT_ID', 'DEST',\n",
       "       'ARR_DELAY_GROUP', 'CANCELLATION_CODE', 'DISTANCE_GROUP', 'DEP_TIME',\n",
       "       'ARR_TIME', 'tmpF_D', 'dptF_D', 'CC_D', 'dir_D', 'spd_D', '6hPrecPrb_D',\n",
       "       '12hPrecPrb_D', '6hQntPrec_D', '12hQntPrec_D', 'snow_D', 'ceil_D',\n",
       "       'visib_D', 'obstruc_D', 'fzRnPrb_D', 'snowPrb_D', '6hrTsPrb_15mi_D',\n",
       "       '6hrSvrTsPrb_25mi_D', 'tmpF_A', 'dptF_A', 'CC_A', 'dir_A', 'spd_A',\n",
       "       '6hPrecPrb_A', '12hPrecPrb_A', '6hQntPrec_A', '12hQntPrec_A', 'snow_A',\n",
       "       'ceil_A', 'visib_A', 'obstruc_A', 'fzRnPrb_A', 'snowPrb_A',\n",
       "       '6hrTsPrb_15mi_A', '6hrSvrTsPrb_25mi_A'],\n",
       "      dtype='object')"
      ]
     },
     "execution_count": 33,
     "metadata": {},
     "output_type": "execute_result"
    }
   ],
   "source": [
    "dfccNoLate.columns"
   ]
  },
  {
   "cell_type": "code",
   "execution_count": 29,
   "metadata": {
    "collapsed": true
   },
   "outputs": [
    {
     "name": "stderr",
     "output_type": "stream",
     "text": [
      "/opt/anaconda3/envs/insight/lib/python3.8/site-packages/pandas/core/frame.py:3990: SettingWithCopyWarning: \n",
      "A value is trying to be set on a copy of a slice from a DataFrame\n",
      "\n",
      "See the caveats in the documentation: https://pandas.pydata.org/pandas-docs/stable/user_guide/indexing.html#returning-a-view-versus-a-copy\n",
      "  return super().drop(\n"
     ]
    }
   ],
   "source": [
    "dfccNoLate.drop(columns=['CANCELLED','DIVERTED','WEATHER_DELAY','NAS_DELAY','LATE_AIRCRAFT_DELAY','CANCELLATION_CODE'],axis=1,inplace=True)"
   ]
  },
  {
   "cell_type": "code",
   "execution_count": 37,
   "metadata": {},
   "outputs": [],
   "source": [
    "#For df used for ML modeling \n",
    "dfML = dfccNoLate.dropna() "
   ]
  },
  {
   "cell_type": "code",
   "execution_count": 41,
   "metadata": {
    "collapsed": true
   },
   "outputs": [
    {
     "name": "stderr",
     "output_type": "stream",
     "text": [
      "/opt/anaconda3/envs/insight/lib/python3.8/site-packages/pandas/core/indexing.py:671: SettingWithCopyWarning: \n",
      "A value is trying to be set on a copy of a slice from a DataFrame\n",
      "\n",
      "See the caveats in the documentation: https://pandas.pydata.org/pandas-docs/stable/user_guide/indexing.html#returning-a-view-versus-a-copy\n",
      "  self._setitem_with_indexer(indexer, value)\n",
      "<ipython-input-41-ba31aec7a974>:6: SettingWithCopyWarning: \n",
      "A value is trying to be set on a copy of a slice from a DataFrame\n",
      "\n",
      "See the caveats in the documentation: https://pandas.pydata.org/pandas-docs/stable/user_guide/indexing.html#returning-a-view-versus-a-copy\n",
      "  dfML['ARR_DELAY_GROUP'].loc[(dfML['ARR_DELAY_GROUP']<=0)] = 0\n",
      "<ipython-input-41-ba31aec7a974>:7: SettingWithCopyWarning: \n",
      "A value is trying to be set on a copy of a slice from a DataFrame\n",
      "\n",
      "See the caveats in the documentation: https://pandas.pydata.org/pandas-docs/stable/user_guide/indexing.html#returning-a-view-versus-a-copy\n",
      "  dfML['ARR_DELAY_GROUP'].loc[(dfML['ARR_DELAY_GROUP']>0)] = 1\n"
     ]
    }
   ],
   "source": [
    "#Merged arrival bins for simplicity for now\n",
    "#df['ARR_DELAY_NEW_BINS'] = 0\n",
    "#df.loc[(df['DELAY_MIN']>0) & (df['DELAY_MIN']<15),'ARR_DELAY_NEW_BINS'] = 1\n",
    "#df.loc[df['ARR_DELAY_GROUP']>=1,'ARR_DELAY_NEW_BINS'] = 1\n",
    "\n",
    "dfML['ARR_DELAY_GROUP'].loc[(dfML['ARR_DELAY_GROUP']<=0)] = 0\n",
    "dfML['ARR_DELAY_GROUP'].loc[(dfML['ARR_DELAY_GROUP']>0)] = 1\n",
    "\n",
    "#dfML['ARR_DELAY_GROUP'].loc[(dfML['ARR_DELAY_GROUP']<=0)] = 0\n",
    "#dfML['ARR_DELAY_GROUP'].loc[(dfML['ARR_DELAY_GROUP']>0) & (dfML['ARR_DELAY_GROUP']<4)] = 1\n",
    "#dfML['ARR_DELAY_GROUP'].loc[(dfML['ARR_DELAY_GROUP']>=4) & (dfML['ARR_DELAY_GROUP']<8)] = 2\n",
    "#dfML['ARR_DELAY_GROUP'].loc[(dfML['ARR_DELAY_GROUP']>=8)] = 3\n",
    "\n",
    "#Drop any row from df with nans for ML model, drop columns columns that are not needed\n",
    "#df.drop('DELAY_MIN',inplace=True,axis=1)\n",
    "#dfML = df.dropna() "
   ]
  },
  {
   "cell_type": "code",
   "execution_count": null,
   "metadata": {},
   "outputs": [],
   "source": [
    "#Merge so airport region-by-timezone\n",
    "#result = pd.merge(dfML,regions,left_on=['ORIGIN'],right_on=['airport'])\n",
    "#result.drop('airport',axis=1,inplace=True)\n",
    "#result.rename(columns={\"region\":\"ORIG_REGION\"},inplace=True)\n",
    "\n",
    "#dfMLmerged = pd.merge(result,regions,left_on=['DEST'],right_on=['airport'])\n",
    "#dfMLmerged.drop('airport',axis=1,inplace=True)\n",
    "#dfMLmerged.rename(columns={\"region\":\"DEST_REGION\"},inplace=True)"
   ]
  },
  {
   "cell_type": "code",
   "execution_count": null,
   "metadata": {},
   "outputs": [],
   "source": [
    "#Convert non-numeric to numeric\n",
    "#dfML['OP_UNIQUE_CARRIER'].replace({'MQ':1,'AA':2,'B6':3,'OO':4,'OH':5,'UA':6,'AS':7,'NK':8,\n",
    "                                 'YX':9,'YV':10,'WN':11,'DL':12,'EV':13,'9E':14,'F9':15,'HA':16,'G4':17,'VX':18},inplace=True)"
   ]
  },
  {
   "cell_type": "code",
   "execution_count": 50,
   "metadata": {
    "collapsed": true
   },
   "outputs": [
    {
     "name": "stderr",
     "output_type": "stream",
     "text": [
      "<ipython-input-50-64e4ae6e34fc>:1: SettingWithCopyWarning: \n",
      "A value is trying to be set on a copy of a slice from a DataFrame.\n",
      "Try using .loc[row_indexer,col_indexer] = value instead\n",
      "\n",
      "See the caveats in the documentation: https://pandas.pydata.org/pandas-docs/stable/user_guide/indexing.html#returning-a-view-versus-a-copy\n",
      "  dfML['DEP_TIME'] = pd.to_datetime(dfML['DEP_TIME'])\n",
      "<ipython-input-50-64e4ae6e34fc>:2: SettingWithCopyWarning: \n",
      "A value is trying to be set on a copy of a slice from a DataFrame.\n",
      "Try using .loc[row_indexer,col_indexer] = value instead\n",
      "\n",
      "See the caveats in the documentation: https://pandas.pydata.org/pandas-docs/stable/user_guide/indexing.html#returning-a-view-versus-a-copy\n",
      "  dfML['ARR_TIME'] = pd.to_datetime(dfML['ARR_TIME'])\n",
      "<ipython-input-50-64e4ae6e34fc>:18: SettingWithCopyWarning: \n",
      "A value is trying to be set on a copy of a slice from a DataFrame.\n",
      "Try using .loc[row_indexer,col_indexer] = value instead\n",
      "\n",
      "See the caveats in the documentation: https://pandas.pydata.org/pandas-docs/stable/user_guide/indexing.html#returning-a-view-versus-a-copy\n",
      "  dfML['month'] = dfML['DEP_TIME'].dt.month\n",
      "<ipython-input-50-64e4ae6e34fc>:19: SettingWithCopyWarning: \n",
      "A value is trying to be set on a copy of a slice from a DataFrame.\n",
      "Try using .loc[row_indexer,col_indexer] = value instead\n",
      "\n",
      "See the caveats in the documentation: https://pandas.pydata.org/pandas-docs/stable/user_guide/indexing.html#returning-a-view-versus-a-copy\n",
      "  dfML['hour'] = dfML['DEP_TIME'].dt.hour\n",
      "<ipython-input-50-64e4ae6e34fc>:21: SettingWithCopyWarning: \n",
      "A value is trying to be set on a copy of a slice from a DataFrame.\n",
      "Try using .loc[row_indexer,col_indexer] = value instead\n",
      "\n",
      "See the caveats in the documentation: https://pandas.pydata.org/pandas-docs/stable/user_guide/indexing.html#returning-a-view-versus-a-copy\n",
      "  dfML['DOY'] = dfML['DEP_TIME'].dt.dayofyear\n"
     ]
    }
   ],
   "source": [
    "dfML['DEP_TIME'] = pd.to_datetime(dfML['DEP_TIME'])\n",
    "dfML['ARR_TIME'] = pd.to_datetime(dfML['ARR_TIME'])\n",
    "\n",
    "#Convert date infomation to feature info\n",
    "#dfML.loc[(dfML['DEP_TIME'].dt.month==1) | (dfML['DEP_TIME'].dt.month==2) | (dfML['DEP_TIME'].dt.month==3),'SEASON'] = 1\n",
    "#dfML.loc[(dfML['DEP_TIME'].dt.month==4) | (dfML['DEP_TIME'].dt.month==5) | (dfML['DEP_TIME'].dt.month==6),'SEASON'] = 2\n",
    "#dfML.loc[(dfML['DEP_TIME'].dt.month==7) | (dfML['DEP_TIME'].dt.month==8) | (dfML['DEP_TIME'].dt.month==9),'SEASON'] = 3\n",
    "#dfML.loc[(dfML['DEP_TIME'].dt.month==10) | (dfML['DEP_TIME'].dt.month==11) | (dfML['DEP_TIME'].dt.month==12),'SEASON'] = 4\n",
    "\n",
    "#dfML.loc[(dfML['DEP_TIME'].dt.hour>=1) | (dfML['DEP_TIME'].dt.month<8),'TOD'] = 1\n",
    "#dfML.loc[(dfML['DEP_TIME'].dt.hour>=9) | (dfML['DEP_TIME'].dt.month<14),'TOD'] = 2\n",
    "#dfML.loc[(dfML['DEP_TIME'].dt.hour>=15) | (dfML['DEP_TIME'].dt.month<23),'TOD'] = 3\n",
    "\n",
    "#dfMLmerged['month'] = dfMLmerged['DEP_TIME'].dt.month\n",
    "#dfMLmerged['hour'] = dfMLmerged['DEP_TIME'].dt.hour\n",
    "#dfMLmerged['DOW'] = dfMLmerged['DEP_TIME'].dt.dayofweek\n",
    "\n",
    "dfML['month'] = dfML['DEP_TIME'].dt.month\n",
    "dfML['hour'] = dfML['DEP_TIME'].dt.hour\n",
    "#dfML['DOW'] = dfML['DEP_TIME'].dt.dayofweek\n",
    "dfML['DOY'] = dfML['DEP_TIME'].dt.dayofyear"
   ]
  },
  {
   "cell_type": "code",
   "execution_count": null,
   "metadata": {},
   "outputs": [],
   "source": [
    "#dfML['ORIGIN-DEST'] = dfML['ORIGIN_AIRPORT_ID'] - dfML['DEST_AIRPORT_ID']"
   ]
  },
  {
   "cell_type": "code",
   "execution_count": 52,
   "metadata": {},
   "outputs": [],
   "source": [
    "#X = dfML[['spd_D', 'fzRnPrb_D', 'snowPrb_D', '6hrTsPrb_15mi_D',\n",
    "#          '6hrSvrTsPrb_25mi_D', 'fzRnPrb_A', 'snowPrb_A', \n",
    "#          '6hrTsPrb_15mi_A','6hrSvrTsPrb_25mi_A','6hPrecPrb_D','6hPrecPrb_A','12hPrecPrb_D',\n",
    "#          '12hPrecPrb_A','snow_D','snow_A','spd_A','tmpF_D', 'dptF_D','tmpF_A', 'dptF_A', \n",
    "#          'ceil_D','ceil_A','visib_D','visib_A','6hQntPrec_D','6hQntPrec_A','12hQntPrec_A','12hQntPrec_D']]\n",
    "\n",
    "#X = dfML[['spd_D', 'fzRnPrb_D', 'snowPrb_D', '6hrTsPrb_15mi_D',\n",
    "#          '6hrSvrTsPrb_25mi_D', 'fzRnPrb_A', 'snowPrb_A', \n",
    "#          '6hrTsPrb_15mi_A','6hrSvrTsPrb_25mi_A','6hPrecPrb_D','6hPrecPrb_A','12hPrecPrb_D',\n",
    "#          '12hPrecPrb_A','snow_D','snow_A','spd_A','tmpF_D', 'dptF_D','tmpF_A', 'dptF_A', \n",
    "#          'ceil_D','ceil_A','visib_D','visib_A','6hQntPrec_D','6hQntPrec_A','12hQntPrec_A','12hQntPrec_D',\n",
    "#          'OP_UNIQUE_CARRIER','DISTANCE_GROUP','ORIGIN_AIRPORT_ID','DEST_AIRPORT_ID','SEASON']]\n",
    "\n",
    "#X = dfML[['spd_D', 'fzRnPrb_D', 'snowPrb_D', '6hrTsPrb_15mi_D',\n",
    "#          '6hrSvrTsPrb_25mi_D', 'fzRnPrb_A', 'snowPrb_A', \n",
    "#          '6hrTsPrb_15mi_A','6hrSvrTsPrb_25mi_A','6hPrecPrb_D','6hPrecPrb_A','12hPrecPrb_D',\n",
    "#          '12hPrecPrb_A','snow_D','snow_A','spd_A','tmpF_D', 'dptF_D','tmpF_A', 'dptF_A', \n",
    "#          'ceil_D','ceil_A','visib_D','visib_A','6hQntPrec_D','6hQntPrec_A','12hQntPrec_A','12hQntPrec_D',\n",
    "#          'OP_UNIQUE_CARRIER','DISTANCE_GROUP','SEASON','TOD']]\n",
    "\n",
    "#X = dfML[['spd_D', 'fzRnPrb_D', 'snowPrb_D', '6hrTsPrb_15mi_D',\n",
    "#          '6hrSvrTsPrb_25mi_D', 'fzRnPrb_A', 'snowPrb_A', \n",
    "#          '6hrTsPrb_15mi_A','6hrSvrTsPrb_25mi_A','6hPrecPrb_D','6hPrecPrb_A','12hPrecPrb_D',\n",
    "#          '12hPrecPrb_A','snow_D','snow_A','spd_A','tmpF_D', 'dptF_D','tmpF_A', 'dptF_A', \n",
    "#          'ceil_D','ceil_A','visib_D','visib_A','6hQntPrec_D','6hQntPrec_A','12hQntPrec_A','12hQntPrec_D',\n",
    "#          'OP_UNIQUE_CARRIER','DISTANCE_GROUP','month','hour','DOW','DOY','ORIGIN-DEST']]\n",
    "\n",
    "X = dfML[['spd_D', 'fzRnPrb_D', 'snowPrb_D', '6hrTsPrb_15mi_D',\n",
    "          '6hrSvrTsPrb_25mi_D', 'fzRnPrb_A', 'snowPrb_A', \n",
    "          '6hrTsPrb_15mi_A','6hrSvrTsPrb_25mi_A','6hPrecPrb_D','6hPrecPrb_A','12hPrecPrb_D',\n",
    "          '12hPrecPrb_A','snow_D','snow_A','spd_A','tmpF_D', 'tmpF_A', \n",
    "          'visib_D','visib_A','6hQntPrec_D','6hQntPrec_A','12hQntPrec_A','12hQntPrec_D',\n",
    "          'DISTANCE_GROUP','month','hour','DOY']]\n",
    "\n",
    "#X = dfML[['spd_D', 'fzRnPrb_D', 'snowPrb_D', '6hrTsPrb_15mi_D',\n",
    "#          '6hrSvrTsPrb_25mi_D', 'fzRnPrb_A', 'snowPrb_A', \n",
    "#          '6hrTsPrb_15mi_A','6hrSvrTsPrb_25mi_A','6hPrecPrb_D','6hPrecPrb_A','12hPrecPrb_D',\n",
    "#          '12hPrecPrb_A','snow_D','snow_A','spd_A','tmpF_D', 'dptF_D','tmpF_A', 'dptF_A', \n",
    "#          'ceil_D','ceil_A','visib_D','visib_A','6hQntPrec_D','6hQntPrec_A','12hQntPrec_A','12hQntPrec_D',\n",
    "#          'OP_UNIQUE_CARRIER','DISTANCE_GROUP','month','hour','DOW','ORIGIN_AIRPORT_ID','DEST_AIRPORT_ID']]\n",
    "\n",
    "\n",
    "#X = dfML[['OP_UNIQUE_CARRIER','DISTANCE_GROUP','month','hour','DOW','ORIGIN_AIRPORT_ID','DEST_AIRPORT_ID','ORIGIN-DEST']]\n",
    "\n",
    "y = dfML['ARR_DELAY_GROUP']"
   ]
  },
  {
   "cell_type": "code",
   "execution_count": null,
   "metadata": {},
   "outputs": [],
   "source": [
    "#Add in log of variables too\n",
    "# X['spd_D_log'] = np.log(X['spd_D']+1)\n",
    "# X['spd_A_log'] = np.log(X['spd_A']+1)\n",
    "\n",
    "# X['6hPrecPrb_D_log'] = np.log(X['6hPrecPrb_D']+1)\n",
    "# X['6hPrecPrb_A_log'] = np.log(X['6hPrecPrb_A']+1)\n",
    "\n",
    "# X['fzRnPrb_D_log'] = np.log(X['fzRnPrb_D']+1)\n",
    "# X['fzRnPrb_A_log'] = np.log(X['fzRnPrb_A']+1)\n",
    "\n",
    "# X['snowPrb_D_log'] = np.log(X['snowPrb_D']+1)\n",
    "# X['snowPrb_A_log'] = np.log(X['snowPrb_A']+1)\n",
    "\n",
    "# X['6hrTsPrb_15mi_D_log'] = np.log(X['6hrTsPrb_15mi_D']+1)\n",
    "# X['6hrTsPrb_15mi_A_log'] = np.log(X['6hrTsPrb_15mi_A']+1)\n",
    "\n",
    "# X['6hrSvrTsPrb_25mi_D_log'] = np.log(X['6hrSvrTsPrb_25mi_D']+1)\n",
    "# X['6hrSvrTsPrb_25mi_A_log'] = np.log(X['6hrSvrTsPrb_25mi_A']+1)\n",
    "\n",
    "# X['12hPrecPrb_D_log'] = np.log(X['12hPrecPrb_D']+1)\n",
    "# X['12hPrecPrb_A_log'] = np.log(X['12hPrecPrb_A']+1)"
   ]
  },
  {
   "cell_type": "code",
   "execution_count": 53,
   "metadata": {},
   "outputs": [],
   "source": [
    "#Split conversion dataset into train and test groups\n",
    "#X_train, X_test, y_train, y_test = train_test_split(X, y)\n",
    "X_train, X_test, y_train, y_test = train_test_split(X, y,stratify=y,shuffle=True,random_state=42)"
   ]
  },
  {
   "cell_type": "code",
   "execution_count": 72,
   "metadata": {},
   "outputs": [
    {
     "data": {
      "text/plain": [
       "(12283830, 28)"
      ]
     },
     "execution_count": 72,
     "metadata": {},
     "output_type": "execute_result"
    }
   ],
   "source": [
    "X_train.shape"
   ]
  },
  {
   "cell_type": "code",
   "execution_count": 67,
   "metadata": {},
   "outputs": [],
   "source": [
    "#Undersample the training dataset (and test one for kicks)\n",
    "from imblearn.under_sampling import RandomUnderSampler\n",
    "rus = RandomUnderSampler(random_state=42)\n",
    "X_res, y_res = rus.fit_resample(X_train, y_train)\n",
    "X_res_test, y_res_test = rus.fit_resample(X_test, y_test)"
   ]
  },
  {
   "cell_type": "code",
   "execution_count": 73,
   "metadata": {},
   "outputs": [
    {
     "data": {
      "text/html": [
       "<div>\n",
       "<style scoped>\n",
       "    .dataframe tbody tr th:only-of-type {\n",
       "        vertical-align: middle;\n",
       "    }\n",
       "\n",
       "    .dataframe tbody tr th {\n",
       "        vertical-align: top;\n",
       "    }\n",
       "\n",
       "    .dataframe thead th {\n",
       "        text-align: right;\n",
       "    }\n",
       "</style>\n",
       "<table border=\"1\" class=\"dataframe\">\n",
       "  <thead>\n",
       "    <tr style=\"text-align: right;\">\n",
       "      <th></th>\n",
       "      <th>spd_D</th>\n",
       "      <th>fzRnPrb_D</th>\n",
       "      <th>snowPrb_D</th>\n",
       "      <th>6hrTsPrb_15mi_D</th>\n",
       "      <th>6hrSvrTsPrb_25mi_D</th>\n",
       "      <th>fzRnPrb_A</th>\n",
       "      <th>snowPrb_A</th>\n",
       "      <th>6hrTsPrb_15mi_A</th>\n",
       "      <th>6hrSvrTsPrb_25mi_A</th>\n",
       "      <th>6hPrecPrb_D</th>\n",
       "      <th>...</th>\n",
       "      <th>visib_D</th>\n",
       "      <th>visib_A</th>\n",
       "      <th>6hQntPrec_D</th>\n",
       "      <th>6hQntPrec_A</th>\n",
       "      <th>12hQntPrec_A</th>\n",
       "      <th>12hQntPrec_D</th>\n",
       "      <th>DISTANCE_GROUP</th>\n",
       "      <th>month</th>\n",
       "      <th>hour</th>\n",
       "      <th>DOY</th>\n",
       "    </tr>\n",
       "  </thead>\n",
       "  <tbody>\n",
       "    <tr>\n",
       "      <th>0</th>\n",
       "      <td>4.0</td>\n",
       "      <td>0.0</td>\n",
       "      <td>0.0</td>\n",
       "      <td>1.0</td>\n",
       "      <td>5.0</td>\n",
       "      <td>0.0</td>\n",
       "      <td>0.0</td>\n",
       "      <td>0.0</td>\n",
       "      <td>0.0</td>\n",
       "      <td>58.0</td>\n",
       "      <td>...</td>\n",
       "      <td>5.0</td>\n",
       "      <td>7.0</td>\n",
       "      <td>1.0</td>\n",
       "      <td>0.0</td>\n",
       "      <td>0.0</td>\n",
       "      <td>0.0</td>\n",
       "      <td>2</td>\n",
       "      <td>3</td>\n",
       "      <td>18</td>\n",
       "      <td>86</td>\n",
       "    </tr>\n",
       "    <tr>\n",
       "      <th>1</th>\n",
       "      <td>5.0</td>\n",
       "      <td>0.0</td>\n",
       "      <td>0.0</td>\n",
       "      <td>0.0</td>\n",
       "      <td>0.0</td>\n",
       "      <td>0.0</td>\n",
       "      <td>0.0</td>\n",
       "      <td>9.0</td>\n",
       "      <td>6.0</td>\n",
       "      <td>5.0</td>\n",
       "      <td>...</td>\n",
       "      <td>7.0</td>\n",
       "      <td>7.0</td>\n",
       "      <td>0.0</td>\n",
       "      <td>0.0</td>\n",
       "      <td>0.0</td>\n",
       "      <td>0.0</td>\n",
       "      <td>8</td>\n",
       "      <td>7</td>\n",
       "      <td>23</td>\n",
       "      <td>185</td>\n",
       "    </tr>\n",
       "    <tr>\n",
       "      <th>2</th>\n",
       "      <td>5.0</td>\n",
       "      <td>0.0</td>\n",
       "      <td>0.0</td>\n",
       "      <td>1.0</td>\n",
       "      <td>0.0</td>\n",
       "      <td>0.0</td>\n",
       "      <td>0.0</td>\n",
       "      <td>0.0</td>\n",
       "      <td>0.0</td>\n",
       "      <td>2.0</td>\n",
       "      <td>...</td>\n",
       "      <td>7.0</td>\n",
       "      <td>7.0</td>\n",
       "      <td>0.0</td>\n",
       "      <td>0.0</td>\n",
       "      <td>0.0</td>\n",
       "      <td>0.0</td>\n",
       "      <td>2</td>\n",
       "      <td>8</td>\n",
       "      <td>13</td>\n",
       "      <td>219</td>\n",
       "    </tr>\n",
       "    <tr>\n",
       "      <th>3</th>\n",
       "      <td>6.0</td>\n",
       "      <td>2.0</td>\n",
       "      <td>0.0</td>\n",
       "      <td>0.0</td>\n",
       "      <td>0.0</td>\n",
       "      <td>0.0</td>\n",
       "      <td>0.0</td>\n",
       "      <td>0.0</td>\n",
       "      <td>0.0</td>\n",
       "      <td>1.0</td>\n",
       "      <td>...</td>\n",
       "      <td>7.0</td>\n",
       "      <td>7.0</td>\n",
       "      <td>0.0</td>\n",
       "      <td>0.0</td>\n",
       "      <td>0.0</td>\n",
       "      <td>0.0</td>\n",
       "      <td>5</td>\n",
       "      <td>9</td>\n",
       "      <td>7</td>\n",
       "      <td>248</td>\n",
       "    </tr>\n",
       "    <tr>\n",
       "      <th>4</th>\n",
       "      <td>6.0</td>\n",
       "      <td>0.0</td>\n",
       "      <td>0.0</td>\n",
       "      <td>0.0</td>\n",
       "      <td>8.0</td>\n",
       "      <td>0.0</td>\n",
       "      <td>0.0</td>\n",
       "      <td>6.0</td>\n",
       "      <td>2.0</td>\n",
       "      <td>3.0</td>\n",
       "      <td>...</td>\n",
       "      <td>7.0</td>\n",
       "      <td>7.0</td>\n",
       "      <td>0.0</td>\n",
       "      <td>0.0</td>\n",
       "      <td>0.0</td>\n",
       "      <td>0.0</td>\n",
       "      <td>4</td>\n",
       "      <td>5</td>\n",
       "      <td>6</td>\n",
       "      <td>150</td>\n",
       "    </tr>\n",
       "    <tr>\n",
       "      <th>...</th>\n",
       "      <td>...</td>\n",
       "      <td>...</td>\n",
       "      <td>...</td>\n",
       "      <td>...</td>\n",
       "      <td>...</td>\n",
       "      <td>...</td>\n",
       "      <td>...</td>\n",
       "      <td>...</td>\n",
       "      <td>...</td>\n",
       "      <td>...</td>\n",
       "      <td>...</td>\n",
       "      <td>...</td>\n",
       "      <td>...</td>\n",
       "      <td>...</td>\n",
       "      <td>...</td>\n",
       "      <td>...</td>\n",
       "      <td>...</td>\n",
       "      <td>...</td>\n",
       "      <td>...</td>\n",
       "      <td>...</td>\n",
       "      <td>...</td>\n",
       "    </tr>\n",
       "    <tr>\n",
       "      <th>1443115</th>\n",
       "      <td>13.0</td>\n",
       "      <td>0.0</td>\n",
       "      <td>0.0</td>\n",
       "      <td>18.0</td>\n",
       "      <td>7.0</td>\n",
       "      <td>0.0</td>\n",
       "      <td>0.0</td>\n",
       "      <td>26.0</td>\n",
       "      <td>4.0</td>\n",
       "      <td>12.0</td>\n",
       "      <td>...</td>\n",
       "      <td>7.0</td>\n",
       "      <td>7.0</td>\n",
       "      <td>0.0</td>\n",
       "      <td>1.0</td>\n",
       "      <td>1.0</td>\n",
       "      <td>0.0</td>\n",
       "      <td>6</td>\n",
       "      <td>8</td>\n",
       "      <td>5</td>\n",
       "      <td>220</td>\n",
       "    </tr>\n",
       "    <tr>\n",
       "      <th>1443116</th>\n",
       "      <td>6.0</td>\n",
       "      <td>0.0</td>\n",
       "      <td>0.0</td>\n",
       "      <td>10.0</td>\n",
       "      <td>3.0</td>\n",
       "      <td>0.0</td>\n",
       "      <td>0.0</td>\n",
       "      <td>3.0</td>\n",
       "      <td>1.0</td>\n",
       "      <td>3.0</td>\n",
       "      <td>...</td>\n",
       "      <td>7.0</td>\n",
       "      <td>7.0</td>\n",
       "      <td>0.0</td>\n",
       "      <td>0.0</td>\n",
       "      <td>0.0</td>\n",
       "      <td>0.0</td>\n",
       "      <td>3</td>\n",
       "      <td>8</td>\n",
       "      <td>9</td>\n",
       "      <td>215</td>\n",
       "    </tr>\n",
       "    <tr>\n",
       "      <th>1443117</th>\n",
       "      <td>3.0</td>\n",
       "      <td>0.0</td>\n",
       "      <td>0.0</td>\n",
       "      <td>1.0</td>\n",
       "      <td>1.0</td>\n",
       "      <td>0.0</td>\n",
       "      <td>0.0</td>\n",
       "      <td>47.0</td>\n",
       "      <td>1.0</td>\n",
       "      <td>3.0</td>\n",
       "      <td>...</td>\n",
       "      <td>7.0</td>\n",
       "      <td>7.0</td>\n",
       "      <td>0.0</td>\n",
       "      <td>0.0</td>\n",
       "      <td>0.0</td>\n",
       "      <td>0.0</td>\n",
       "      <td>4</td>\n",
       "      <td>8</td>\n",
       "      <td>12</td>\n",
       "      <td>213</td>\n",
       "    </tr>\n",
       "    <tr>\n",
       "      <th>1443118</th>\n",
       "      <td>4.0</td>\n",
       "      <td>1.0</td>\n",
       "      <td>94.0</td>\n",
       "      <td>0.0</td>\n",
       "      <td>1.0</td>\n",
       "      <td>5.0</td>\n",
       "      <td>84.0</td>\n",
       "      <td>0.0</td>\n",
       "      <td>2.0</td>\n",
       "      <td>25.0</td>\n",
       "      <td>...</td>\n",
       "      <td>5.0</td>\n",
       "      <td>7.0</td>\n",
       "      <td>0.0</td>\n",
       "      <td>0.0</td>\n",
       "      <td>0.0</td>\n",
       "      <td>0.0</td>\n",
       "      <td>1</td>\n",
       "      <td>12</td>\n",
       "      <td>7</td>\n",
       "      <td>358</td>\n",
       "    </tr>\n",
       "    <tr>\n",
       "      <th>1443119</th>\n",
       "      <td>4.0</td>\n",
       "      <td>1.0</td>\n",
       "      <td>24.0</td>\n",
       "      <td>0.0</td>\n",
       "      <td>0.0</td>\n",
       "      <td>0.0</td>\n",
       "      <td>4.0</td>\n",
       "      <td>0.0</td>\n",
       "      <td>0.0</td>\n",
       "      <td>16.0</td>\n",
       "      <td>...</td>\n",
       "      <td>7.0</td>\n",
       "      <td>7.0</td>\n",
       "      <td>0.0</td>\n",
       "      <td>0.0</td>\n",
       "      <td>1.0</td>\n",
       "      <td>0.0</td>\n",
       "      <td>3</td>\n",
       "      <td>12</td>\n",
       "      <td>21</td>\n",
       "      <td>359</td>\n",
       "    </tr>\n",
       "  </tbody>\n",
       "</table>\n",
       "<p>1443120 rows × 28 columns</p>\n",
       "</div>"
      ],
      "text/plain": [
       "         spd_D  fzRnPrb_D  snowPrb_D  6hrTsPrb_15mi_D  6hrSvrTsPrb_25mi_D  \\\n",
       "0          4.0        0.0        0.0              1.0                 5.0   \n",
       "1          5.0        0.0        0.0              0.0                 0.0   \n",
       "2          5.0        0.0        0.0              1.0                 0.0   \n",
       "3          6.0        2.0        0.0              0.0                 0.0   \n",
       "4          6.0        0.0        0.0              0.0                 8.0   \n",
       "...        ...        ...        ...              ...                 ...   \n",
       "1443115   13.0        0.0        0.0             18.0                 7.0   \n",
       "1443116    6.0        0.0        0.0             10.0                 3.0   \n",
       "1443117    3.0        0.0        0.0              1.0                 1.0   \n",
       "1443118    4.0        1.0       94.0              0.0                 1.0   \n",
       "1443119    4.0        1.0       24.0              0.0                 0.0   \n",
       "\n",
       "         fzRnPrb_A  snowPrb_A  6hrTsPrb_15mi_A  6hrSvrTsPrb_25mi_A  \\\n",
       "0              0.0        0.0              0.0                 0.0   \n",
       "1              0.0        0.0              9.0                 6.0   \n",
       "2              0.0        0.0              0.0                 0.0   \n",
       "3              0.0        0.0              0.0                 0.0   \n",
       "4              0.0        0.0              6.0                 2.0   \n",
       "...            ...        ...              ...                 ...   \n",
       "1443115        0.0        0.0             26.0                 4.0   \n",
       "1443116        0.0        0.0              3.0                 1.0   \n",
       "1443117        0.0        0.0             47.0                 1.0   \n",
       "1443118        5.0       84.0              0.0                 2.0   \n",
       "1443119        0.0        4.0              0.0                 0.0   \n",
       "\n",
       "         6hPrecPrb_D  ...  visib_D  visib_A  6hQntPrec_D  6hQntPrec_A  \\\n",
       "0               58.0  ...      5.0      7.0          1.0          0.0   \n",
       "1                5.0  ...      7.0      7.0          0.0          0.0   \n",
       "2                2.0  ...      7.0      7.0          0.0          0.0   \n",
       "3                1.0  ...      7.0      7.0          0.0          0.0   \n",
       "4                3.0  ...      7.0      7.0          0.0          0.0   \n",
       "...              ...  ...      ...      ...          ...          ...   \n",
       "1443115         12.0  ...      7.0      7.0          0.0          1.0   \n",
       "1443116          3.0  ...      7.0      7.0          0.0          0.0   \n",
       "1443117          3.0  ...      7.0      7.0          0.0          0.0   \n",
       "1443118         25.0  ...      5.0      7.0          0.0          0.0   \n",
       "1443119         16.0  ...      7.0      7.0          0.0          0.0   \n",
       "\n",
       "         12hQntPrec_A  12hQntPrec_D  DISTANCE_GROUP  month  hour  DOY  \n",
       "0                 0.0           0.0               2      3    18   86  \n",
       "1                 0.0           0.0               8      7    23  185  \n",
       "2                 0.0           0.0               2      8    13  219  \n",
       "3                 0.0           0.0               5      9     7  248  \n",
       "4                 0.0           0.0               4      5     6  150  \n",
       "...               ...           ...             ...    ...   ...  ...  \n",
       "1443115           1.0           0.0               6      8     5  220  \n",
       "1443116           0.0           0.0               3      8     9  215  \n",
       "1443117           0.0           0.0               4      8    12  213  \n",
       "1443118           0.0           0.0               1     12     7  358  \n",
       "1443119           1.0           0.0               3     12    21  359  \n",
       "\n",
       "[1443120 rows x 28 columns]"
      ]
     },
     "execution_count": 73,
     "metadata": {},
     "output_type": "execute_result"
    }
   ],
   "source": [
    "X_res"
   ]
  },
  {
   "cell_type": "code",
   "execution_count": null,
   "metadata": {},
   "outputs": [],
   "source": [
    "#from sklearn.preprocessing import MinMaxScaler\n",
    "#scaler = MinMaxScaler()\n",
    "#X_train_scaled = scaler.fit_transform(X_train)\n",
    "# we must apply the scaling to the test set that we computed for the training set\n",
    "#X_test_scaled = scaler.transform(X_test)\n",
    "\n",
    "#from sklearn.preprocessing import StandardScaler\n",
    "#scaler = StandardScaler()\n",
    "#scaler.fit(X_train)\n",
    "#X_train_scale = scaler.transform(X_train)\n",
    "#X_test_scale = scaler.transform(X_test)"
   ]
  },
  {
   "cell_type": "code",
   "execution_count": null,
   "metadata": {},
   "outputs": [],
   "source": [
    "#from imblearn.under_sampling import RandomUnderSampler\n",
    "#from imblearn.over_sampling import SMOTENC\n",
    "#smote = SMOTENC(categorical_features=[20,21,22,23,28,29,30,31,32,33,34], random_state=42)\n",
    "#X_sm,y_sm = smote.fit_sample(X_train, y_train)"
   ]
  },
  {
   "cell_type": "code",
   "execution_count": null,
   "metadata": {},
   "outputs": [],
   "source": [
    "#from imblearn.over_sampling import SMOTE\n",
    "#smote = SMOTE(random_state=42)\n",
    "#X_sm,y_sm = smote.fit_sample(X_train, y_train)\n",
    "\n",
    "#from imblearn.over_sampling import RandomOverSampler\n",
    "#ros = RandomOverSampler(random_state=42)\n",
    "#X_ros,y_ros = ros.fit_sample(X_train, y_train)"
   ]
  },
  {
   "cell_type": "code",
   "execution_count": 62,
   "metadata": {},
   "outputs": [],
   "source": [
    "#Train random forest model\n",
    "#clf = RandomForestClassifier(n_estimators=100,n_jobs=4,class_weight='balanced').fit(X_train, y_train)\n",
    "\n",
    "#clf = RandomForestClassifier(n_estimators=10,n_jobs=5,class_weight='balanced',random_state=42).fit(X_train_scaled, y_train)\n",
    "\n",
    "#clf = RandomForestClassifier(n_estimators=10,n_jobs=5,class_weight='balanced',random_state=42).fit(X_train, y_train)\n",
    "\n",
    "#clf = RandomForestClassifier(n_estimators=10,n_jobs=5,class_weight='balanced',random_state=42).fit(X_sm, y_sm)\n",
    "\n",
    "clf = RandomForestClassifier(n_estimators=20,n_jobs=5,class_weight='balanced',random_state=42).fit(X_res, y_res)\n"
   ]
  },
  {
   "cell_type": "code",
   "execution_count": 68,
   "metadata": {},
   "outputs": [],
   "source": [
    "#Run trained model on test set\n",
    "forest_predicted = clf.predict(X_test)\n",
    "forest_predicted_res = clf.predict(X_res_test)"
   ]
  },
  {
   "cell_type": "code",
   "execution_count": 75,
   "metadata": {},
   "outputs": [
    {
     "name": "stdout",
     "output_type": "stream",
     "text": [
      "Classification Report\n"
     ]
    },
    {
     "ename": "ValueError",
     "evalue": "Found input variables with inconsistent numbers of samples: [4094610, 481040]",
     "output_type": "error",
     "traceback": [
      "\u001b[0;31m---------------------------------------------------------------------------\u001b[0m",
      "\u001b[0;31mValueError\u001b[0m                                Traceback (most recent call last)",
      "\u001b[0;32m<ipython-input-75-bf38fad6cfcf>\u001b[0m in \u001b[0;36m<module>\u001b[0;34m\u001b[0m\n\u001b[1;32m      6\u001b[0m \u001b[0mprint\u001b[0m\u001b[0;34m(\u001b[0m\u001b[0;34m'Classification Report'\u001b[0m\u001b[0;34m)\u001b[0m\u001b[0;34m\u001b[0m\u001b[0;34m\u001b[0m\u001b[0m\n\u001b[1;32m      7\u001b[0m \u001b[0;31m#print(classification_report(y_test, forest_predicted,target_names=['< 15 min', '15-1hr','1hr-2hr','>2 hr']))\u001b[0m\u001b[0;34m\u001b[0m\u001b[0;34m\u001b[0m\u001b[0;34m\u001b[0m\u001b[0m\n\u001b[0;32m----> 8\u001b[0;31m \u001b[0mprint\u001b[0m\u001b[0;34m(\u001b[0m\u001b[0mclassification_report\u001b[0m\u001b[0;34m(\u001b[0m\u001b[0my_test\u001b[0m\u001b[0;34m,\u001b[0m \u001b[0mforest_predicted\u001b[0m\u001b[0;34m,\u001b[0m\u001b[0mtarget_names\u001b[0m\u001b[0;34m=\u001b[0m\u001b[0;34m[\u001b[0m\u001b[0;34m'0'\u001b[0m\u001b[0;34m,\u001b[0m \u001b[0;34m'1'\u001b[0m\u001b[0;34m]\u001b[0m\u001b[0;34m)\u001b[0m\u001b[0;34m)\u001b[0m\u001b[0;34m\u001b[0m\u001b[0;34m\u001b[0m\u001b[0m\n\u001b[0m\u001b[1;32m      9\u001b[0m \u001b[0;34m\u001b[0m\u001b[0m\n\u001b[1;32m     10\u001b[0m \u001b[0mprint\u001b[0m \u001b[0;34m(\u001b[0m\u001b[0;34m' '\u001b[0m\u001b[0;34m)\u001b[0m\u001b[0;34m\u001b[0m\u001b[0;34m\u001b[0m\u001b[0m\n",
      "\u001b[0;32m/opt/anaconda3/envs/insight/lib/python3.8/site-packages/sklearn/metrics/_classification.py\u001b[0m in \u001b[0;36mclassification_report\u001b[0;34m(y_true, y_pred, labels, target_names, sample_weight, digits, output_dict, zero_division)\u001b[0m\n\u001b[1;32m   1969\u001b[0m     \"\"\"\n\u001b[1;32m   1970\u001b[0m \u001b[0;34m\u001b[0m\u001b[0m\n\u001b[0;32m-> 1971\u001b[0;31m     \u001b[0my_type\u001b[0m\u001b[0;34m,\u001b[0m \u001b[0my_true\u001b[0m\u001b[0;34m,\u001b[0m \u001b[0my_pred\u001b[0m \u001b[0;34m=\u001b[0m \u001b[0m_check_targets\u001b[0m\u001b[0;34m(\u001b[0m\u001b[0my_true\u001b[0m\u001b[0;34m,\u001b[0m \u001b[0my_pred\u001b[0m\u001b[0;34m)\u001b[0m\u001b[0;34m\u001b[0m\u001b[0;34m\u001b[0m\u001b[0m\n\u001b[0m\u001b[1;32m   1972\u001b[0m \u001b[0;34m\u001b[0m\u001b[0m\n\u001b[1;32m   1973\u001b[0m     \u001b[0mlabels_given\u001b[0m \u001b[0;34m=\u001b[0m \u001b[0;32mTrue\u001b[0m\u001b[0;34m\u001b[0m\u001b[0;34m\u001b[0m\u001b[0m\n",
      "\u001b[0;32m/opt/anaconda3/envs/insight/lib/python3.8/site-packages/sklearn/metrics/_classification.py\u001b[0m in \u001b[0;36m_check_targets\u001b[0;34m(y_true, y_pred)\u001b[0m\n\u001b[1;32m     78\u001b[0m     \u001b[0my_pred\u001b[0m \u001b[0;34m:\u001b[0m \u001b[0marray\u001b[0m \u001b[0;32mor\u001b[0m \u001b[0mindicator\u001b[0m \u001b[0mmatrix\u001b[0m\u001b[0;34m\u001b[0m\u001b[0;34m\u001b[0m\u001b[0m\n\u001b[1;32m     79\u001b[0m     \"\"\"\n\u001b[0;32m---> 80\u001b[0;31m     \u001b[0mcheck_consistent_length\u001b[0m\u001b[0;34m(\u001b[0m\u001b[0my_true\u001b[0m\u001b[0;34m,\u001b[0m \u001b[0my_pred\u001b[0m\u001b[0;34m)\u001b[0m\u001b[0;34m\u001b[0m\u001b[0;34m\u001b[0m\u001b[0m\n\u001b[0m\u001b[1;32m     81\u001b[0m     \u001b[0mtype_true\u001b[0m \u001b[0;34m=\u001b[0m \u001b[0mtype_of_target\u001b[0m\u001b[0;34m(\u001b[0m\u001b[0my_true\u001b[0m\u001b[0;34m)\u001b[0m\u001b[0;34m\u001b[0m\u001b[0;34m\u001b[0m\u001b[0m\n\u001b[1;32m     82\u001b[0m     \u001b[0mtype_pred\u001b[0m \u001b[0;34m=\u001b[0m \u001b[0mtype_of_target\u001b[0m\u001b[0;34m(\u001b[0m\u001b[0my_pred\u001b[0m\u001b[0;34m)\u001b[0m\u001b[0;34m\u001b[0m\u001b[0;34m\u001b[0m\u001b[0m\n",
      "\u001b[0;32m/opt/anaconda3/envs/insight/lib/python3.8/site-packages/sklearn/utils/validation.py\u001b[0m in \u001b[0;36mcheck_consistent_length\u001b[0;34m(*arrays)\u001b[0m\n\u001b[1;32m    209\u001b[0m     \u001b[0muniques\u001b[0m \u001b[0;34m=\u001b[0m \u001b[0mnp\u001b[0m\u001b[0;34m.\u001b[0m\u001b[0munique\u001b[0m\u001b[0;34m(\u001b[0m\u001b[0mlengths\u001b[0m\u001b[0;34m)\u001b[0m\u001b[0;34m\u001b[0m\u001b[0;34m\u001b[0m\u001b[0m\n\u001b[1;32m    210\u001b[0m     \u001b[0;32mif\u001b[0m \u001b[0mlen\u001b[0m\u001b[0;34m(\u001b[0m\u001b[0muniques\u001b[0m\u001b[0;34m)\u001b[0m \u001b[0;34m>\u001b[0m \u001b[0;36m1\u001b[0m\u001b[0;34m:\u001b[0m\u001b[0;34m\u001b[0m\u001b[0;34m\u001b[0m\u001b[0m\n\u001b[0;32m--> 211\u001b[0;31m         raise ValueError(\"Found input variables with inconsistent numbers of\"\n\u001b[0m\u001b[1;32m    212\u001b[0m                          \" samples: %r\" % [int(l) for l in lengths])\n\u001b[1;32m    213\u001b[0m \u001b[0;34m\u001b[0m\u001b[0m\n",
      "\u001b[0;31mValueError\u001b[0m: Found input variables with inconsistent numbers of samples: [4094610, 481040]"
     ]
    }
   ],
   "source": [
    "from sklearn.metrics import confusion_matrix\n",
    "from sklearn.metrics import accuracy_score, precision_score, recall_score, f1_score\n",
    "from sklearn.metrics import classification_report\n",
    "from sklearn.metrics import matthews_corrcoef\n",
    "\n",
    "print('Classification Report')\n",
    "#print(classification_report(y_test, forest_predicted,target_names=['< 15 min', '15-1hr','1hr-2hr','>2 hr']))\n",
    "print(classification_report(y_test, forest_predicted,target_names=['0', '1']))\n",
    "\n",
    "print (' ')\n",
    "\n",
    "print('Micro-averaged precision = {:.2f} (treat instances equally)'\n",
    "       .format(precision_score(y_test, forest_predicted, average = 'micro')))\n",
    "print('Macro-averaged precision = {:.2f} (treat classes equally)'\n",
    "      .format(precision_score(y_test, forest_predicted, average = 'macro')))\n",
    "print('Micro-averaged f1 = {:.2f} (treat instances equally)'\n",
    "      .format(f1_score(y_test, forest_predicted, average = 'micro')))\n",
    "print('Macro-averaged f1 = {:.2f} (treat classes equally)'\n",
    "      .format(f1_score(y_test, forest_predicted, average = 'macro')))\n",
    "\n",
    "print (' ')\n",
    "\n",
    "print('Matthews correlation coefficient = {:.2f}'\n",
    "      .format(matthews_corrcoef(y_test, forest_predicted)))"
   ]
  },
  {
   "cell_type": "code",
   "execution_count": 65,
   "metadata": {},
   "outputs": [
    {
     "data": {
      "text/plain": [
       "array([[3001752,  852338],\n",
       "       [  73278,  167242]])"
      ]
     },
     "execution_count": 65,
     "metadata": {},
     "output_type": "execute_result"
    }
   ],
   "source": [
    "from sklearn.metrics import confusion_matrix\n",
    "confusion_matrix(y_test, forest_predicted)"
   ]
  },
  {
   "cell_type": "code",
   "execution_count": 74,
   "metadata": {},
   "outputs": [
    {
     "name": "stdout",
     "output_type": "stream",
     "text": [
      "Classification Report\n",
      "              precision    recall  f1-score   support\n",
      "\n",
      "           0       0.72      0.78      0.75    240520\n",
      "           1       0.76      0.70      0.73    240520\n",
      "\n",
      "    accuracy                           0.74    481040\n",
      "   macro avg       0.74      0.74      0.74    481040\n",
      "weighted avg       0.74      0.74      0.74    481040\n",
      "\n",
      " \n",
      "Micro-averaged precision = 0.74 (treat instances equally)\n",
      "Macro-averaged precision = 0.74 (treat classes equally)\n",
      "Micro-averaged f1 = 0.74 (treat instances equally)\n",
      "Macro-averaged f1 = 0.74 (treat classes equally)\n",
      " \n",
      "Matthews correlation coefficient = 0.48\n"
     ]
    },
    {
     "data": {
      "text/plain": [
       "array([[187293,  53227],\n",
       "       [ 73278, 167242]])"
      ]
     },
     "execution_count": 74,
     "metadata": {},
     "output_type": "execute_result"
    }
   ],
   "source": [
    "from sklearn.metrics import confusion_matrix\n",
    "from sklearn.metrics import accuracy_score, precision_score, recall_score, f1_score\n",
    "from sklearn.metrics import classification_report\n",
    "from sklearn.metrics import matthews_corrcoef\n",
    "\n",
    "print('Classification Report')\n",
    "#print(classification_report(y_res_test, forest_predicted,target_names=['< 15 min', '15-1hr','1hr-2hr','>2 hr']))\n",
    "print(classification_report(y_res_test, forest_predicted_res,target_names=['0', '1']))\n",
    "\n",
    "print (' ')\n",
    "\n",
    "print('Micro-averaged precision = {:.2f} (treat instances equally)'\n",
    "      .format(precision_score(y_res_test, forest_predicted_res, average = 'micro')))\n",
    "print('Macro-averaged precision = {:.2f} (treat classes equally)'\n",
    "      .format(precision_score(y_res_test, forest_predicted_res, average = 'macro')))\n",
    "print('Micro-averaged f1 = {:.2f} (treat instances equally)'\n",
    "      .format(f1_score(y_res_test, forest_predicted_res, average = 'micro')))\n",
    "print('Macro-averaged f1 = {:.2f} (treat classes equally)'\n",
    "      .format(f1_score(y_res_test, forest_predicted_res, average = 'macro')))\n",
    "\n",
    "print (' ')\n",
    "\n",
    "print('Matthews correlation coefficient = {:.2f}'\n",
    "      .format(matthews_corrcoef(y_res_test, forest_predicted_res)))\n",
    "\n",
    "from sklearn.metrics import confusion_matrix\n",
    "confusion_matrix(y_res_test, forest_predicted_res)"
   ]
  },
  {
   "cell_type": "code",
   "execution_count": null,
   "metadata": {},
   "outputs": [],
   "source": [
    "#Predict probabilities\n",
    "#predictions = clf.predict_proba(X_test)\n",
    "#predictions"
   ]
  },
  {
   "cell_type": "code",
   "execution_count": null,
   "metadata": {},
   "outputs": [],
   "source": [
    "from sklearn.dummy import DummyClassifier\n",
    "\n",
    "# Negative class (0) is most frequent\n",
    "#dummy_majority = DummyClassifier(strategy = 'most_frequent').fit(X_train, y_train)\n",
    "# Therefore the dummy 'most_frequent' classifier always predicts class 0\n",
    "#y_dummy_predictions = dummy_majority.predict(X_test)\n",
    "\n",
    "dummy_classprop = DummyClassifier(strategy='stratified').fit(X_train, y_train)\n",
    "y_classprop_predicted = dummy_classprop.predict(X_test)\n",
    "\n",
    "print('Random class-proportional (dummy)\\n', \n",
    "      #classification_report(y_test, y_classprop_predicted, target_names=['0', '1']))\n",
    "      classification_report(y_test, y_classprop_predicted, target_names=['< 15 min', '15-1hr','1hr-2hr','>2 hr']))"
   ]
  },
  {
   "cell_type": "code",
   "execution_count": null,
   "metadata": {},
   "outputs": [],
   "source": []
  },
  {
   "cell_type": "code",
   "execution_count": null,
   "metadata": {},
   "outputs": [],
   "source": []
  }
 ],
 "metadata": {
  "kernelspec": {
   "display_name": "Python 3",
   "language": "python",
   "name": "python3"
  },
  "language_info": {
   "codemirror_mode": {
    "name": "ipython",
    "version": 3
   },
   "file_extension": ".py",
   "mimetype": "text/x-python",
   "name": "python",
   "nbconvert_exporter": "python",
   "pygments_lexer": "ipython3",
   "version": "3.8.2"
  }
 },
 "nbformat": 4,
 "nbformat_minor": 4
}
