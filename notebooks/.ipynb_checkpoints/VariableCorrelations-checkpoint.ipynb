{
 "cells": [
  {
   "cell_type": "markdown",
   "metadata": {},
   "source": [
    "# Calculate correlations between variables for feature selection/engineering"
   ]
  },
  {
   "cell_type": "markdown",
   "metadata": {},
   "source": [
    "##### Import libraries"
   ]
  },
  {
   "cell_type": "code",
   "execution_count": 1,
   "metadata": {},
   "outputs": [],
   "source": [
    "#Import modules\n",
    "import pandas as pd\n"
   ]
  },
  {
   "cell_type": "markdown",
   "metadata": {},
   "source": [
    "##### Read in met data so we can pair user-specified flight info with it, read in merged flight+met data for ML algorithm"
   ]
  },
  {
   "cell_type": "code",
   "execution_count": 8,
   "metadata": {},
   "outputs": [],
   "source": [
    "#Read merged flight+met data for ML and perform slight processing\n",
    "#file = '../data/processed/merged/2019_FlightMetMerged.csv'\n",
    "#df = pd.read_csv(file)\n",
    "\n",
    "#df.drop_duplicates(inplace=True)\n",
    "\n",
    "#For now remove flights where arrival time before departure time\n",
    "#df['ARR_TIME'] = pd.to_datetime(df['ARR_TIME'])\n",
    "#df['DEP_TIME'] = pd.to_datetime(df['DEP_TIME'])\n",
    "#df = df[df['ARR_TIME']>df['DEP_TIME']]\n",
    "\n"
   ]
  }
 ],
 "metadata": {
  "kernelspec": {
   "display_name": "Python 3",
   "language": "python",
   "name": "python3"
  },
  "language_info": {
   "codemirror_mode": {
    "name": "ipython",
    "version": 3
   },
   "file_extension": ".py",
   "mimetype": "text/x-python",
   "name": "python",
   "nbconvert_exporter": "python",
   "pygments_lexer": "ipython3",
   "version": "3.8.2"
  }
 },
 "nbformat": 4,
 "nbformat_minor": 4
}
