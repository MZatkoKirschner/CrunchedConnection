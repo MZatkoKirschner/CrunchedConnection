{
 "cells": [
  {
   "cell_type": "markdown",
   "metadata": {},
   "source": [
    "## Annual Flight Records Exploratory Data Analysis"
   ]
  },
  {
   "cell_type": "markdown",
   "metadata": {},
   "source": [
    "#### This notebook visualizes flight data and creates plots for the final demo\n",
    "#### Data from: https://www.transtats.bts.gov/DL_SelectFields.asp?Table_ID=236"
   ]
  },
  {
   "cell_type": "code",
   "execution_count": 1,
   "metadata": {},
   "outputs": [],
   "source": [
    "#Import modules\n",
    "import pandas as pd"
   ]
  },
  {
   "cell_type": "code",
   "execution_count": 2,
   "metadata": {
    "collapsed": true
   },
   "outputs": [
    {
     "name": "stderr",
     "output_type": "stream",
     "text": [
      "/opt/anaconda3/envs/insight/lib/python3.8/site-packages/IPython/core/interactiveshell.py:3062: DtypeWarning: Columns (25) have mixed types.Specify dtype option on import or set low_memory=False.\n",
      "  has_raised = await self.run_ast_nodes(code_ast.body, cell_name,\n"
     ]
    }
   ],
   "source": [
    "#Read annual flight data file\n",
    "year = 2019\n",
    "filename = '../data/raw/flights/'+str(year)+'_allFlightData.csv'\n",
    "\n",
    "df = pd.read_csv(filename)"
   ]
  },
  {
   "cell_type": "code",
   "execution_count": null,
   "metadata": {},
   "outputs": [],
   "source": [
    "#How many different airlines are in this dataset?\n",
    "print (df['OP_UNIQUE_CARRIER'].unique())"
   ]
  },
  {
   "cell_type": "code",
   "execution_count": null,
   "metadata": {},
   "outputs": [],
   "source": [
    "#How many different origin cities?\n",
    "df.groupby(['ORIGIN_CITY_NAME']).size().reset_index().rename(columns={0:'count'})"
   ]
  },
  {
   "cell_type": "code",
   "execution_count": null,
   "metadata": {},
   "outputs": [],
   "source": [
    "#How many different departure cities?\n",
    "df.groupby(['DEST_CITY_NAME']).size().reset_index().rename(columns={0:'count'})"
   ]
  },
  {
   "cell_type": "code",
   "execution_count": null,
   "metadata": {},
   "outputs": [],
   "source": [
    "#How many unique pairs of origin and destination city?\n",
    "df.groupby(['ORIGIN_CITY_NAME','DEST_CITY_NAME']).size().reset_index().rename(columns={0:'count'})"
   ]
  },
  {
   "cell_type": "code",
   "execution_count": 3,
   "metadata": {},
   "outputs": [
    {
     "name": "stdout",
     "output_type": "stream",
     "text": [
      "BTS defines carrier delays as: The cause of the cancellation or delay was due to circumstances within the airlines control, such as maintenance or crew problems, aircraft cleaning, baggage loading, fueling, etc\n",
      " \n",
      "BTS defines extreme weather delays as: Significant meteorological conditions [actual or forecasted] that, in the judgment of the carrier, delays or prevents the operation of a flight such as tornado, blizzard or hurricane.\n",
      " \n",
      "BTS defines national aviation system delays as: Delays and cancellations attributable to the national aviation system that refer to a broad set of conditions, such as non-extreme weather conditions, airport operations, heavy traffic volume, and air traffic control.\n",
      " \n",
      "82237 out of 7422037 flights delayed due to weather\n",
      "Percent of flights that have weather delays=1.1\n",
      " \n",
      "674713 out of 7422037 flights delayed due to carrier\n",
      "Percent of flights that have carrier delays=9.1\n",
      " \n",
      "745235 out of 7422037 flights delayed due to National Aviation System\n",
      "Percent of flights that have NAS delays=10.0\n"
     ]
    }
   ],
   "source": [
    "#Learn more about the delays included in dataset\n",
    "\n",
    "print('BTS defines carrier delays as: The cause of the cancellation or delay was due to circumstances within the airlines control, such as maintenance or crew problems, aircraft cleaning, baggage loading, fueling, etc')                                                \n",
    "print(' ')\n",
    "print('BTS defines extreme weather delays as: Significant meteorological conditions [actual or forecasted] that, in the judgment of the carrier, delays or prevents the operation of a flight such as tornado, blizzard or hurricane.')\n",
    "print(' ')\n",
    "print('BTS defines national aviation system delays as: Delays and cancellations attributable to the national aviation system that refer to a broad set of conditions, such as non-extreme weather conditions, airport operations, heavy traffic volume, and air traffic control.')\n",
    "print(' ')\n",
    "\n",
    "#How many weather delays in a year?\n",
    "weatherdelay = df['WEATHER_DELAY'][df['WEATHER_DELAY']>0].count()\n",
    "perWeatherDelay = round(((weatherdelay/len(df))*100),1)\n",
    "\n",
    "print(str(weatherdelay)+' out of '+str(len(df))+' flights delayed due to weather')\n",
    "print('Percent of flights that have weather delays='+str(perWeatherDelay))\n",
    "\n",
    "print (' ')\n",
    "#How many carrier delays in a year?\n",
    "carrierdelay = df['CARRIER_DELAY'][df['CARRIER_DELAY']>0].count()\n",
    "perCarrierDelay = round(((carrierdelay/len(df))*100),1)\n",
    "\n",
    "print(str(carrierdelay)+' out of '+str(len(df))+' flights delayed due to carrier')\n",
    "print('Percent of flights that have carrier delays='+str(perCarrierDelay))\n",
    "\n",
    "print (' ')\n",
    "#How many NAS delays in a year?\n",
    "nasdelay = df['NAS_DELAY'][df['NAS_DELAY']>0].count()\n",
    "perNASDelay = round(((nasdelay/len(df))*100),1)\n",
    "\n",
    "print(str(nasdelay)+' out of '+str(len(df))+' flights delayed due to National Aviation System')\n",
    "print('Percent of flights that have NAS delays='+str(perNASDelay))\n"
   ]
  },
  {
   "cell_type": "code",
   "execution_count": 4,
   "metadata": {},
   "outputs": [],
   "source": [
    "#Sum up total number of minutes associated with each type of delay in one year\n",
    "carrierDelayMinutes = df['CARRIER_DELAY'].sum()\n",
    "weatherDelayMinutes = df['WEATHER_DELAY'].sum()\n",
    "NASDelayMinutes = df['NAS_DELAY'].sum()\n",
    "SecurityDelayMinutes = df['SECURITY_DELAY'].sum()\n",
    "LateAircraftDelayMinutes = df['LATE_AIRCRAFT_DELAY'].sum()"
   ]
  },
  {
   "cell_type": "code",
   "execution_count": 5,
   "metadata": {},
   "outputs": [],
   "source": [
    "#Calculate on-time and late flight information for stacked bar chart\n",
    "OnTimePer =  ( (df[df['ARR_DELAY_GROUP']<=0].shape[0])/len(df) ) * 100\n",
    "LatePer = ( (df[df['ARR_DELAY_GROUP']>0].shape[0])/len(df) ) * 100"
   ]
  },
  {
   "cell_type": "code",
   "execution_count": 6,
   "metadata": {},
   "outputs": [
    {
     "name": "stdout",
     "output_type": "stream",
     "text": [
      "All Reasons Delay: 95889721.0\n",
      " \n",
      "Carrier Delay: 30.611164256072872\n",
      " \n",
      "Weather Delay: 5.50893353835079\n",
      " \n",
      "NAS Delay: 24.032663521880515\n",
      " \n",
      "Security Delay: 0.13920574448224748\n",
      " \n",
      "LateAircraft Delay: 39.70803293921358\n",
      " \n"
     ]
    }
   ],
   "source": [
    "#Calculate the % totals for each delay (in terms of delay minutes)\n",
    "AllReasonsDelayMinutes = (carrierDelayMinutes + weatherDelayMinutes + NASDelayMinutes + \n",
    "                          SecurityDelayMinutes + LateAircraftDelayMinutes)\n",
    "print ('All Reasons Delay: ' + str(AllReasonsDelayMinutes))\n",
    "print (' ')\n",
    "\n",
    "carrierDelayMinutes = df['CARRIER_DELAY'].sum()\n",
    "carrierDelayPercent = (carrierDelayMinutes/AllReasonsDelayMinutes) * 100\n",
    "print ('Carrier Delay: ' + str(carrierDelayPercent))\n",
    "print (' ')\n",
    "\n",
    "weatherDelayMinutes = df['WEATHER_DELAY'].sum()\n",
    "weatherDelayPercent = (weatherDelayMinutes/AllReasonsDelayMinutes) * 100\n",
    "print ('Weather Delay: ' + str(weatherDelayPercent))\n",
    "print (' ')\n",
    "\n",
    "NASDelayMinutes = df['NAS_DELAY'].sum()\n",
    "NASDelayPercent = (NASDelayMinutes/AllReasonsDelayMinutes) * 100\n",
    "print ('NAS Delay: ' + str(NASDelayPercent))\n",
    "print (' ')\n",
    "\n",
    "SecurityDelayMinutes = df['SECURITY_DELAY'].sum()\n",
    "SecurityDelayPercent = (SecurityDelayMinutes/AllReasonsDelayMinutes) * 100\n",
    "print ('Security Delay: ' + str(SecurityDelayPercent))\n",
    "print (' ')\n",
    "\n",
    "LateAircraftDelayMinutes = df['LATE_AIRCRAFT_DELAY'].sum()\n",
    "LateAircraftDelayPercent = (LateAircraftDelayMinutes/AllReasonsDelayMinutes) * 100\n",
    "print ('LateAircraft Delay: ' + str(LateAircraftDelayPercent))\n",
    "print (' ')\n"
   ]
  },
  {
   "cell_type": "markdown",
   "metadata": {},
   "source": [
    "### Generate Plots for Demo"
   ]
  },
  {
   "cell_type": "code",
   "execution_count": 12,
   "metadata": {},
   "outputs": [
    {
     "data": {
      "image/png": "[encoded data removed]",
      "text/plain": [
       "<Figure size 432x288 with 1 Axes>"
      ]
     },
     "metadata": {
      "needs_background": "light"
     },
     "output_type": "display_data"
    }
   ],
   "source": [
    "#Create bar chart showing on-time and late flight percentages\n",
    "import numpy as np\n",
    "import matplotlib.pyplot as plt\n",
    "\n",
    "N = 2\n",
    "flightPer = (OnTimePer, LatePer)\n",
    "\n",
    "ind = np.arange(N)    # the x locations for the groups\n",
    "width = 0.70       # the width of the bars: can also be len(x) sequence\n",
    "\n",
    "p1 = plt.bar(ind, flightPer, width)\n",
    "p1[0].set_color('b')\n",
    "p1[1].set_color('b')\n",
    "\n",
    "#Plot the data:\n",
    "my_colors = 'rgbkymc'  #red, green, blue, black, etc.\n",
    "\n",
    "plt.ylabel('Total Flights (%)')\n",
    "plt.title('2019 On-Time and Late Flights')\n",
    "plt.xticks(ind, ('On-Time', '>15 Min Late'))\n",
    "plt.yticks(np.arange(0, 101, 10))\n",
    "\n",
    "plt.show()"
   ]
  },
  {
   "cell_type": "code",
   "execution_count": 27,
   "metadata": {},
   "outputs": [
    {
     "data": {
      "image/png": "[encoded data removed]",
      "text/plain": [
       "<Figure size 432x288 with 1 Axes>"
      ]
     },
     "metadata": {
      "needs_background": "light"
     },
     "output_type": "display_data"
    },
    {
     "data": {
      "text/plain": [
       "<Figure size 3600x720 with 0 Axes>"
      ]
     },
     "metadata": {},
     "output_type": "display_data"
    }
   ],
   "source": [
    "#Create bar chart showing the different delay reasons\n",
    "import numpy as np\n",
    "import matplotlib.pyplot as plt\n",
    "\n",
    "N = 5\n",
    "\n",
    "ind = np.arange(N)    # the x locations for the groups\n",
    "width = 0.70       # the width of the bars: can also be len(x) sequence\n",
    "\n",
    "flightDel = (LateAircraftDelayPercent, carrierDelayPercent, NASDelayPercent, weatherDelayPercent, SecurityDelayPercent)\n",
    "\n",
    "p1 = plt.bar(ind, flightDel, width)\n",
    "p1[0].set_color('g')\n",
    "p1[1].set_color('purple')\n",
    "p1[2].set_color('orange')\n",
    "p1[3].set_color('r')\n",
    "p1[4].set_color('c')\n",
    "\n",
    "plt.ylabel('Total Delay Minutes (%)')\n",
    "plt.title('2019 Delayed Flight Summary')\n",
    "#plt.xticks(ind, 'Delay Reasons')\n",
    "plt.yticks(np.arange(0, 101, 10))\n",
    "plt.legend((p1[0], p1[1],p1[2],p1[3],p1[4]), ('Late Aircraft','Carrier','National Aviation System',\n",
    "                                              'Severe Weather','Security'))\n",
    "plt.figure(figsize=(50, 10)) \n",
    "plt.show()\n"
   ]
  }
 ],
 "metadata": {
  "kernelspec": {
   "display_name": "Python 3",
   "language": "python",
   "name": "python3"
  },
  "language_info": {
   "codemirror_mode": {
    "name": "ipython",
    "version": 3
   },
   "file_extension": ".py",
   "mimetype": "text/x-python",
   "name": "python",
   "nbconvert_exporter": "python",
   "pygments_lexer": "ipython3",
   "version": "3.8.2"
  }
 },
 "nbformat": 4,
 "nbformat_minor": 4
}
